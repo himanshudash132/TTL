{
 "cells": [
  {
   "cell_type": "markdown",
   "id": "e952cd0d-bbab-49b7-9832-1fe9f356b1ab",
   "metadata": {},
   "source": [
    "## Lab. Exercise(LE):"
   ]
  },
  {
   "cell_type": "markdown",
   "id": "e0da536a-ede9-4a50-805d-2298c6deb15f",
   "metadata": {},
   "source": [
    "\n",
    "## 1) Write a Python program(WAPP) to input any two integers, and provide a menu to the user to select any of the options as add, subtract, multiply, divide and display the result accordingly"
   ]
  },
  {
   "cell_type": "code",
   "execution_count": 5,
   "id": "9f4c6df9-ff23-4b3a-aba5-a46c4716a18e",
   "metadata": {},
   "outputs": [
    {
     "name": "stdin",
     "output_type": "stream",
     "text": [
      "Enter first integer:  1\n",
      "Enter second integer:  1\n"
     ]
    },
    {
     "name": "stdout",
     "output_type": "stream",
     "text": [
      "Select operation:\n",
      "1. Add\n",
      "2. Subtract\n",
      "3. Multiply\n",
      "4. Divide\n"
     ]
    },
    {
     "name": "stdin",
     "output_type": "stream",
     "text": [
      "Enter choice (1/2/3/4):  1\n"
     ]
    },
    {
     "name": "stdout",
     "output_type": "stream",
     "text": [
      "Result: 2\n"
     ]
    }
   ],
   "source": [
    "num1 = int(input(\"Enter first integer: \"))\n",
    "num2 = int(input(\"Enter second integer: \"))\n",
    "\n",
    "print(\"Select operation:\")\n",
    "print(\"1. Add\")\n",
    "print(\"2. Subtract\")\n",
    "print(\"3. Multiply\")\n",
    "print(\"4. Divide\")\n",
    "\n",
    "choice = int(input(\"Enter choice (1/2/3/4): \"))\n",
    "\n",
    "if choice == 1:\n",
    "    print(\"Result:\", num1 + num2)\n",
    "elif choice == 2:\n",
    "    print(\"Result:\", num1 - num2)\n",
    "elif choice == 3:\n",
    "    print(\"Result:\", num1 * num2)\n",
    "elif choice == 4:\n",
    "    if num2 != 0:\n",
    "        print(\"Result:\", num1 / num2)\n",
    "    else:\n",
    "        print(\"Cannot divide by zero\")\n",
    "else:\n",
    "    print(\"Invalid choice\")"
   ]
  },
  {
   "cell_type": "markdown",
   "id": "2b50e2a2-8471-45bc-b056-36af54147350",
   "metadata": {},
   "source": [
    "## 2) WAPP to check if a year is leap year or not.\n"
   ]
  },
  {
   "cell_type": "code",
   "execution_count": 6,
   "id": "63535caa-e241-46ee-bb3b-290e546a1e7a",
   "metadata": {},
   "outputs": [
    {
     "name": "stdin",
     "output_type": "stream",
     "text": [
      "Enter a year:  2020\n"
     ]
    },
    {
     "name": "stdout",
     "output_type": "stream",
     "text": [
      "2020 is a leap year\n"
     ]
    }
   ],
   "source": [
    "# Python program to check if year is a leap year or not\n",
    "\n",
    "\n",
    "\n",
    "# To get year (integer input) from the user\n",
    "year = int(input(\"Enter a year: \"))\n",
    "\n",
    "# divided by 100 means century year (ending with 00)\n",
    "# century year divided by 400 is leap year\n",
    "if (year % 400 == 0) and (year % 100 == 0):\n",
    "    print(\"{0} is a leap year\".format(year))\n",
    "\n",
    "# not divided by 100 means not a century year\n",
    "# year divided by 4 is a leap year\n",
    "elif (year % 4 ==0) and (year % 100 != 0):\n",
    "    print(\"{0} is a leap year\".format(year))\n",
    "\n",
    "# if not divided by both 400 (century year) and 4 (not century year)\n",
    "# year is not leap year\n",
    "else:\n",
    "    print(\"{0} is not a leap year\".format(year))"
   ]
  },
  {
   "cell_type": "markdown",
   "id": "28b135c4-792b-4fa9-88b4-d93891f86a9e",
   "metadata": {},
   "source": [
    "## 3) WAPP to convert temperature from centigrade to Fahrenheit scale."
   ]
  },
  {
   "cell_type": "code",
   "execution_count": 7,
   "id": "4d19e5e5-7e55-40ca-b96f-aff22e3d3dd0",
   "metadata": {},
   "outputs": [
    {
     "name": "stdin",
     "output_type": "stream",
     "text": [
      "Enter temperature in centigrade:  12\n"
     ]
    },
    {
     "name": "stdout",
     "output_type": "stream",
     "text": [
      "Temperature in Fahrenheit: 53.6\n"
     ]
    }
   ],
   "source": [
    "centigrade = float(input(\"Enter temperature in centigrade: \"))\n",
    "fahrenheit = (centigrade * 9/5) + 32\n",
    "print(\"Temperature in Fahrenheit:\", fahrenheit)"
   ]
  },
  {
   "cell_type": "markdown",
   "id": "f019c73d-d007-4dc7-9e0f-18badd2ba4ac",
   "metadata": {},
   "source": [
    "## 4) WAPP to add two times in hour, minute & second format entered through the keyboard."
   ]
  },
  {
   "cell_type": "code",
   "execution_count": 9,
   "id": "9897ec82-277e-4e73-8213-bb6f7301430c",
   "metadata": {},
   "outputs": [
    {
     "name": "stdin",
     "output_type": "stream",
     "text": [
      "Enter first time (hh:mm:ss):  1:1:1\n",
      "Enter second time (hh:mm:ss):  1:1:1\n"
     ]
    },
    {
     "name": "stdout",
     "output_type": "stream",
     "text": [
      "Sum of times: 2 hours 2 minutes 2 seconds\n"
     ]
    }
   ],
   "source": [
    "# Prompting the user to enter the first time in hours, minutes, and seconds\n",
    "hours1, minutes1, seconds1 = map(int, input(\"Enter first time (hh:mm:ss): \").split(':'))\n",
    "\n",
    "# Prompting the user to enter the second time in hours, minutes, and seconds\n",
    "hours2, minutes2, seconds2 = map(int, input(\"Enter second time (hh:mm:ss): \").split(':'))\n",
    "\n",
    "# Calculating the total seconds by adding the individual components of both times\n",
    "total_seconds = (hours1 + hours2) * 3600 + (minutes1 + minutes2) * 60 + (seconds1 + seconds2)\n",
    "\n",
    "# Calculating the final hours, minutes, and seconds from the total seconds\n",
    "final_hours = total_seconds // 3600\n",
    "final_minutes = (total_seconds % 3600) // 60\n",
    "final_seconds = total_seconds % 60\n",
    "\n",
    "# Printing the sum of times in hours, minutes, and seconds\n",
    "print(\"Sum of times:\", final_hours, \"hours\", final_minutes, \"minutes\", final_seconds, \"seconds\")\n"
   ]
  },
  {
   "cell_type": "markdown",
   "id": "eb07b17a-4603-4c9b-852b-e41bcda60b7c",
   "metadata": {},
   "source": [
    "## 5) WAPP to check given number is Armstrong or not."
   ]
  },
  {
   "cell_type": "code",
   "execution_count": 12,
   "id": "88292c74-1243-458a-b311-d3140eb79378",
   "metadata": {},
   "outputs": [
    {
     "name": "stdin",
     "output_type": "stream",
     "text": [
      "Enter a number:  1234\n"
     ]
    },
    {
     "name": "stdout",
     "output_type": "stream",
     "text": [
      "4\n",
      "1234 is not an Armstrong number\n"
     ]
    }
   ],
   "source": [
    "# Prompting the user to enter a number\n",
    "number = int(input(\"Enter a number: \"))\n",
    "\n",
    "# Calculating the order of the number\n",
    "order = len(str(number))\n",
    "print(order)\n",
    "\n",
    "# Initializing the sum variable\n",
    "sum = 0\n",
    "\n",
    "# Creating a temporary variable to store the number\n",
    "temp = number\n",
    "\n",
    "# Loop to calculate the sum of digits raised to the power of the order\n",
    "while temp > 0:\n",
    "    digit = temp % 10\n",
    "    sum += digit ** order\n",
    "    temp //= 10\n",
    "\n",
    "# Checking if the number is an Armstrong number\n",
    "if number == sum:\n",
    "    print(number, \"is an Armstrong number\")\n",
    "else:\n",
    "    print(number, \"is not an Armstrong number\")\n"
   ]
  },
  {
   "cell_type": "markdown",
   "id": "2e2ececf-680c-44e9-9393-8cae05bf50c8",
   "metadata": {},
   "source": [
    "## 6) WAPP to find out the factors of a number."
   ]
  },
  {
   "cell_type": "code",
   "execution_count": null,
   "id": "2e6bd935-ccf9-4120-905d-2b83ebd05bed",
   "metadata": {},
   "outputs": [],
   "source": []
  },
  {
   "cell_type": "markdown",
   "id": "81983d7b-83e8-4a3a-8758-1fc01f979096",
   "metadata": {},
   "source": [
    "## 7) WAPP to print all even number between 100 to 200 using loop."
   ]
  },
  {
   "cell_type": "code",
   "execution_count": null,
   "id": "24ae285f-5bf1-401b-bdda-64b5ae756445",
   "metadata": {},
   "outputs": [],
   "source": []
  },
  {
   "cell_type": "markdown",
   "id": "fa60b43a-fb72-4992-9952-49d232706336",
   "metadata": {},
   "source": [
    "## 8) WAPP to find LCM of 2 numbers using while loop."
   ]
  },
  {
   "cell_type": "code",
   "execution_count": null,
   "id": "46a57d3c-e7af-4e2b-bc07-057825605863",
   "metadata": {},
   "outputs": [],
   "source": []
  },
  {
   "cell_type": "markdown",
   "id": "ee3dde91-0109-4e2b-b874-ee5ce99e4a2c",
   "metadata": {},
   "source": [
    "## 9) WAPP to findout the distance between two coordinates (x1, y1) & (x2, y2)."
   ]
  },
  {
   "cell_type": "code",
   "execution_count": null,
   "id": "282bbcc5-4eec-4b18-9c63-43b25ca379fd",
   "metadata": {},
   "outputs": [],
   "source": []
  },
  {
   "cell_type": "markdown",
   "id": "1da141eb-9f7e-4cf4-9113-0d2ec4ed535f",
   "metadata": {},
   "source": [
    "##  10)WAPP to find the multiplication table of any number using for loop.\n"
   ]
  },
  {
   "cell_type": "code",
   "execution_count": null,
   "id": "d8a66324-f343-4e03-9f3a-b242512ea7d3",
   "metadata": {},
   "outputs": [],
   "source": []
  },
  {
   "cell_type": "markdown",
   "id": "a62004a2-aa6f-4488-98eb-1b9b375c3ab3",
   "metadata": {},
   "source": [
    "## 11)WAPP to find Volume and Surface Area of Cylinder.\n"
   ]
  },
  {
   "cell_type": "code",
   "execution_count": null,
   "id": "150daa2e-8b75-46bf-ab21-288d0713d0c8",
   "metadata": {},
   "outputs": [],
   "source": []
  },
  {
   "cell_type": "markdown",
   "id": "290d736b-1afd-4ded-878a-68d939c6dc0c",
   "metadata": {},
   "source": [
    "## 12)WAPP to find the roots of a quadratic equation ax2\n"
   ]
  },
  {
   "cell_type": "code",
   "execution_count": null,
   "id": "97d41340-7c72-4e79-987a-046ba2344613",
   "metadata": {},
   "outputs": [],
   "source": []
  },
  {
   "cell_type": "markdown",
   "id": "2581f700-9987-474b-8c90-5470424e5a6b",
   "metadata": {},
   "source": [
    "## 13)KIIT DU has following rules for grading system:\n",
    "http://coe.kiit.ac.in/examination-regulations.php#R1\n",
    "WAPP to enter your marks of any 5 courses of 2 semesters through keyboard print the\n",
    "corresponding grade.\n",
    "Calculate SGPA for each semester and overall CGPA."
   ]
  },
  {
   "cell_type": "code",
   "execution_count": null,
   "id": "d8f4bf9e-69fd-434f-b103-ab00970b9a46",
   "metadata": {},
   "outputs": [],
   "source": []
  },
  {
   "cell_type": "markdown",
   "id": "29508ce5-f64c-402d-bc9d-8a11ef9340e9",
   "metadata": {},
   "source": [
    "## 14)A student will not be allowed to sit in exam if his/her attendence is less than 70%.\n",
    "Take following input from user:\n",
    "• Number of classes held\n",
    "• Number of classes attended\n",
    "Print percentage of class attended and check the student is allowed to sit in exam or not."
   ]
  },
  {
   "cell_type": "code",
   "execution_count": null,
   "id": "a2d54023-3945-4bcb-9e20-a1541a9e235b",
   "metadata": {},
   "outputs": [],
   "source": []
  },
  {
   "cell_type": "markdown",
   "id": "e6f5765c-d9cb-4fc3-8304-9052617367e8",
   "metadata": {},
   "source": [
    "## 15)High Radius Company decided to give bonus of 10% to employee if his/her year of service\n",
    "is more than 5 years.\n",
    "• Enter salary and year of service from keyboard and print the net bonus amount.\n",
    "• Determine oldest and youngest among 3 employees by taking input(from user) of\n",
    "their age."
   ]
  },
  {
   "cell_type": "code",
   "execution_count": null,
   "id": "22ab1f44-f5fc-4897-8a43-c263bb02762e",
   "metadata": {},
   "outputs": [],
   "source": []
  },
  {
   "cell_type": "markdown",
   "id": "f397a6cc-fdf9-4390-b6c5-53adcf4744b7",
   "metadata": {},
   "source": [
    "## Home Exercise(HE):"
   ]
  },
  {
   "cell_type": "markdown",
   "id": "f65bd20e-537b-4b1b-b573-4cda42e23546",
   "metadata": {},
   "source": [
    "## 1) WAPP to convert a quantity in meter entered through keyboard into its equivalent\n",
    "kilometre and meter as per the following format.\n",
    "Example. 2430 meter = 2 Km and 430 meter."
   ]
  },
  {
   "cell_type": "code",
   "execution_count": null,
   "id": "d89d4f8c-9801-4827-a58b-853990104edb",
   "metadata": {},
   "outputs": [],
   "source": []
  },
  {
   "cell_type": "markdown",
   "id": "31ee2338-3a7a-4520-9e0f-e3b60df26abc",
   "metadata": {},
   "source": [
    "## 2) WAPP to print sum of all prime number between 1 to n using loop"
   ]
  },
  {
   "cell_type": "code",
   "execution_count": null,
   "id": "1c1e2b08-96e8-4d3f-b9cb-8cf719f2c7e6",
   "metadata": {},
   "outputs": [],
   "source": []
  },
  {
   "cell_type": "markdown",
   "id": "21a93884-7cc6-4ac0-9215-52b138588bef",
   "metadata": {},
   "source": [
    "## 3) WAPP to display the reverse of a number entered through keyboard."
   ]
  },
  {
   "cell_type": "code",
   "execution_count": null,
   "id": "0ddcfe75-399b-4c6d-a00e-ce5c011fa2cc",
   "metadata": {},
   "outputs": [],
   "source": []
  },
  {
   "cell_type": "markdown",
   "id": "7958ea6b-556c-434d-ab0c-977f4efdd859",
   "metadata": {},
   "source": [
    "## 4) WAPP to convert a decimal number into its equivalent number with base b.\n",
    "Decimal number and b are the user input."
   ]
  },
  {
   "cell_type": "code",
   "execution_count": null,
   "id": "851070e6-7b16-4d79-977c-30a769e6910c",
   "metadata": {},
   "outputs": [],
   "source": []
  },
  {
   "cell_type": "markdown",
   "id": "479ebcea-cfdd-4faf-925d-e44be9f111e2",
   "metadata": {},
   "source": [
    "## 5) WAPP to sum the following series S=1+(1+2)+(1+2+3)+...+(1+2+3+...+n)"
   ]
  },
  {
   "cell_type": "code",
   "execution_count": null,
   "id": "25a3e6dc-6657-4abd-a90f-9fbb295f54d8",
   "metadata": {},
   "outputs": [],
   "source": []
  }
 ],
 "metadata": {
  "kernelspec": {
   "display_name": "Python 3 (ipykernel)",
   "language": "python",
   "name": "python3"
  },
  "language_info": {
   "codemirror_mode": {
    "name": "ipython",
    "version": 3
   },
   "file_extension": ".py",
   "mimetype": "text/x-python",
   "name": "python",
   "nbconvert_exporter": "python",
   "pygments_lexer": "ipython3",
   "version": "3.11.4"
  }
 },
 "nbformat": 4,
 "nbformat_minor": 5
}
