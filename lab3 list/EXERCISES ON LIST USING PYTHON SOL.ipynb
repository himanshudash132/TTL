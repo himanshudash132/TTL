{
 "cells": [
  {
   "cell_type": "markdown",
   "id": "c1c8668f-2370-4c93-bf81-8895f5794f35",
   "metadata": {},
   "source": [
    "## EXERCISES ON LIST USING PYTHON"
   ]
  },
  {
   "cell_type": "markdown",
   "id": "0bc7160e-f7a2-42f7-aa17-8b55504bd6b1",
   "metadata": {},
   "source": [
    "## 1. Write a Python program to sum all the items\n",
    "Sample Output\n",
    "[1,7,-10,34,2,-8]\n",
    "Sum all the items = 26"
   ]
  },
  {
   "cell_type": "code",
   "execution_count": null,
   "id": "c288f803-a4ed-44e4-945f-bf5fdc79f005",
   "metadata": {},
   "outputs": [],
   "source": []
  },
  {
   "cell_type": "markdown",
   "id": "d8a50844-f790-4cc9-a1d8-be699a440ce1",
   "metadata": {},
   "source": [
    "## 2. Write a Python program to get the largest number from a list\n",
    "Sample Output\n",
    "[1,7,10,34,2,8]\n",
    "Largest Number : 34"
   ]
  },
  {
   "cell_type": "code",
   "execution_count": null,
   "id": "d0aebc8c-3cd7-4bb6-a213-1616c939a64a",
   "metadata": {},
   "outputs": [],
   "source": []
  },
  {
   "cell_type": "markdown",
   "id": "782aff05-f01b-42b8-8585-eba9cda0e8f5",
   "metadata": {},
   "source": [
    "## 3.Write a Python program to count the number of strings where the string length is 2 or\n",
    "more and the first and last character are same from a given list of strings\n",
    "Sample Output\n",
    "['pqp', 'xyzz', 'aba', '4224']\n",
    "First and Last Character are same : 3"
   ]
  },
  {
   "cell_type": "code",
   "execution_count": null,
   "id": "b415286f-a4d7-473d-949d-1bd277696963",
   "metadata": {},
   "outputs": [],
   "source": []
  },
  {
   "cell_type": "markdown",
   "id": "e7be8d76-29b3-4bfa-9aa4-ec1f2ed1333f",
   "metadata": {},
   "source": [
    "## 4.Write a Python program to remove duplicates from a list\n",
    "Sample Output\n",
    "[1,2,3,7,2,1,5,6,4,8,5,4]\n",
    "{1,2,3,4,5,6,7,8}"
   ]
  },
  {
   "cell_type": "code",
   "execution_count": null,
   "id": "83ed1ce3-3c0e-412d-aea8-8d37ed3da5eb",
   "metadata": {},
   "outputs": [],
   "source": []
  },
  {
   "cell_type": "markdown",
   "id": "89840434-c3e9-454c-8300-146cb1e88cf8",
   "metadata": {},
   "source": [
    "## 5. Write a Python program to select an item randomly from a list Using random.choice()\n"
   ]
  },
  {
   "cell_type": "code",
   "execution_count": null,
   "id": "130854fc-310a-4bb1-b7d9-54eaaba8ac96",
   "metadata": {},
   "outputs": [],
   "source": []
  },
  {
   "cell_type": "markdown",
   "id": "5e511f1c-c876-4c89-b704-79f572759423",
   "metadata": {},
   "source": [
    "## 6. Python program to create a list of 5 random integers."
   ]
  },
  {
   "cell_type": "code",
   "execution_count": null,
   "id": "a001f86d-ee15-4ed9-8fe0-7593c96b46c3",
   "metadata": {},
   "outputs": [],
   "source": []
  },
  {
   "cell_type": "markdown",
   "id": "29e6e370-7817-4731-9b9d-38a8a3e97367",
   "metadata": {},
   "source": [
    "## 7. WAP to separate positive and negative number from a list."
   ]
  },
  {
   "cell_type": "code",
   "execution_count": null,
   "id": "ede13322-afc2-4430-9faf-9ee91f383af4",
   "metadata": {},
   "outputs": [],
   "source": []
  },
  {
   "cell_type": "markdown",
   "id": "c9f991e4-05ea-48a5-a657-869a070c0c4b",
   "metadata": {},
   "source": [
    "## 8. WAP to filter even and odd number from a list."
   ]
  },
  {
   "cell_type": "code",
   "execution_count": null,
   "id": "e80f39be-0797-416c-bc0b-a7916610d930",
   "metadata": {},
   "outputs": [],
   "source": []
  },
  {
   "cell_type": "markdown",
   "id": "a42bfb1c-f48e-4ff0-981a-6c2531d5b0bc",
   "metadata": {},
   "source": [
    "## 9. Write a Python program to reverse All Strings in String List\n",
    "Sample Output\n",
    "Original list = ['Tutor', 'joes', 'Computer', 'Education']\n",
    "Reversed list = ['rotuT', 'seoj', 'retupmoC', 'noitacudE']\n",
    "Reversed list = ['Education', 'Computer', 'joes', 'Tutor']"
   ]
  },
  {
   "cell_type": "markdown",
   "id": "74b6f81a-4df3-4e11-81c0-3701b23efb74",
   "metadata": {},
   "source": [
    "## 10.Python program to sort a list of strings on the number of alphabets in each word."
   ]
  },
  {
   "cell_type": "code",
   "execution_count": null,
   "id": "b11311a2-1cea-4e53-8747-4902cd69c768",
   "metadata": {},
   "outputs": [],
   "source": []
  },
  {
   "cell_type": "markdown",
   "id": "17137184-5ac6-4ba9-9a48-b4e18bfbcf0a",
   "metadata": {},
   "source": [
    "## 11.Python program non-numeric items in a list in a separate list"
   ]
  },
  {
   "cell_type": "code",
   "execution_count": null,
   "id": "7588772d-2d78-48cd-8473-b06a33fff521",
   "metadata": {},
   "outputs": [],
   "source": []
  },
  {
   "cell_type": "markdown",
   "id": "194d039a-e8d8-4c2a-894a-c7312b1f6b60",
   "metadata": {},
   "source": [
    "## 12.Python program to create a list of integers representing each character in a string\n"
   ]
  },
  {
   "cell_type": "code",
   "execution_count": null,
   "id": "14042bd1-ed4d-4d66-bc6f-891967332109",
   "metadata": {},
   "outputs": [],
   "source": []
  },
  {
   "cell_type": "markdown",
   "id": "3e543e2b-f088-4e14-9636-5cc73e036fa8",
   "metadata": {},
   "source": [
    "## 13. Python program to find numbers common in two lists.\n"
   ]
  },
  {
   "cell_type": "code",
   "execution_count": null,
   "id": "594777de-c51d-4a95-87a9-e4dd728d1687",
   "metadata": {},
   "outputs": [],
   "source": []
  },
  {
   "cell_type": "markdown",
   "id": "a515feeb-4ca3-4611-95c1-419a073b41f4",
   "metadata": {},
   "source": [
    "## 14. Split a List in half and store the elements in two different lists.\n"
   ]
  },
  {
   "cell_type": "code",
   "execution_count": null,
   "id": "ad2136d3-3862-4ce5-833b-454d4c38ca21",
   "metadata": {},
   "outputs": [],
   "source": []
  },
  {
   "cell_type": "markdown",
   "id": "30dbf594-cccb-4893-8464-1a55a9767b7c",
   "metadata": {},
   "source": [
    "## 15. Interchange first and last elements of a list\n"
   ]
  },
  {
   "cell_type": "code",
   "execution_count": null,
   "id": "3aeabf55-1fab-42c9-bb73-c53e16c46628",
   "metadata": {},
   "outputs": [],
   "source": []
  },
  {
   "cell_type": "markdown",
   "id": "02f4c09a-899f-4bdc-9f1f-919fe24030d9",
   "metadata": {},
   "source": [
    "## 16. Display elements wit Frequency greater than a given value k"
   ]
  },
  {
   "cell_type": "code",
   "execution_count": null,
   "id": "7a9987cc-43ef-4c20-b0b6-cc198d0d9feb",
   "metadata": {},
   "outputs": [],
   "source": []
  }
 ],
 "metadata": {
  "kernelspec": {
   "display_name": "Python 3 (ipykernel)",
   "language": "python",
   "name": "python3"
  },
  "language_info": {
   "codemirror_mode": {
    "name": "ipython",
    "version": 3
   },
   "file_extension": ".py",
   "mimetype": "text/x-python",
   "name": "python",
   "nbconvert_exporter": "python",
   "pygments_lexer": "ipython3",
   "version": "3.11.4"
  }
 },
 "nbformat": 4,
 "nbformat_minor": 5
}
