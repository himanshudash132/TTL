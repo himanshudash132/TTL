{
 "cells": [
  {
   "cell_type": "code",
   "execution_count": 4,
   "id": "d90f69cb-a590-44ad-b8a7-09886c6614b6",
   "metadata": {},
   "outputs": [],
   "source": [
    "import pandas as pd\n",
    "\n",
    "# Load the dataset\n",
    "df = pd.read_csv('training_titanic.csv')\n",
    "\n",
    "# A. How many people survived the disaster?\n",
    "survived_count = df['Survived'].sum()\n",
    "\n",
    "# B. How many people died?\n",
    "total_passengers = df['Survived'].count()\n",
    "died_count = total_passengers - survived_count"
   ]
  }
 ],
 "metadata": {
  "kernelspec": {
   "display_name": "Python 3 (ipykernel)",
   "language": "python",
   "name": "python3"
  },
  "language_info": {
   "codemirror_mode": {
    "name": "ipython",
    "version": 3
   },
   "file_extension": ".py",
   "mimetype": "text/x-python",
   "name": "python",
   "nbconvert_exporter": "python",
   "pygments_lexer": "ipython3",
   "version": "3.11.4"
  }
 },
 "nbformat": 4,
 "nbformat_minor": 5
}
