{
 "cells": [
  {
   "cell_type": "markdown",
   "id": "05da9e96-b37b-4e0d-be99-bae7fed16be4",
   "metadata": {},
   "source": [
    "## 1. Print characters from a string that are present at an even index number:"
   ]
  },
  {
   "cell_type": "code",
   "execution_count": 11,
   "id": "e985a437-f173-40f5-9ceb-8ed14c27b5e6",
   "metadata": {},
   "outputs": [
    {
     "data": {
      "text/plain": [
       "'Hlo ol!'"
      ]
     },
     "execution_count": 11,
     "metadata": {},
     "output_type": "execute_result"
    }
   ],
   "source": [
    "string = \"Hello, World!\"\n",
    "string[::2]"
   ]
  },
  {
   "cell_type": "markdown",
   "id": "a87ff68d-bcf0-4518-a6cb-27631d2a0df1",
   "metadata": {},
   "source": [
    "## 2. Write a Python program to display the current date and time:"
   ]
  },
  {
   "cell_type": "code",
   "execution_count": 6,
   "id": "72ebfbaa-134a-438d-b94d-667cef1cfffc",
   "metadata": {},
   "outputs": [
    {
     "data": {
      "text/plain": [
       "datetime.datetime(2024, 3, 19, 17, 33, 23, 629200)"
      ]
     },
     "execution_count": 6,
     "metadata": {},
     "output_type": "execute_result"
    }
   ],
   "source": [
    "import datetime\n",
    "current_datetime = datetime.datetime.now()\n",
    "current_datetime"
   ]
  },
  {
   "cell_type": "markdown",
   "id": "652a8f6d-d681-43a3-b490-2e2149e62bd4",
   "metadata": {},
   "source": [
    "## 3. Write a Python program that accepts the user's first and last name and prints them in reverse order with a space between them:"
   ]
  },
  {
   "cell_type": "code",
   "execution_count": 13,
   "id": "ae99a15c-8b9c-431c-a412-edcee1c2e4e9",
   "metadata": {},
   "outputs": [
    {
     "name": "stdin",
     "output_type": "stream",
     "text": [
      "Enter your first name:  himanshu\n",
      "Enter your last name:  dash\n"
     ]
    },
    {
     "name": "stdout",
     "output_type": "stream",
     "text": [
      "dash himanshu\n"
     ]
    }
   ],
   "source": [
    "first_name = input(\"Enter your first name: \")\n",
    "last_name = input(\"Enter your last name: \")\n",
    "print(last_name,first_name)\n"
   ]
  },
  {
   "cell_type": "markdown",
   "id": "d1a81d94-47e5-4c38-9cfa-610d73c2835b",
   "metadata": {},
   "source": [
    "## 4. Write a Python program to get the volume of a sphere with radius six:"
   ]
  },
  {
   "cell_type": "code",
   "execution_count": 15,
   "id": "f05d1a1b-d1db-4933-a567-2bf722746c78",
   "metadata": {},
   "outputs": [
    {
     "data": {
      "text/plain": [
       "904.7786842338603"
      ]
     },
     "execution_count": 15,
     "metadata": {},
     "output_type": "execute_result"
    }
   ],
   "source": [
    "import math\n",
    "r=6\n",
    "vol = (4/3) * math.pi*(r**3)\n",
    "vol"
   ]
  },
  {
   "cell_type": "markdown",
   "id": "fdc45c68-a5cb-4c55-946c-84b29b12e7aa",
   "metadata": {},
   "source": [
    "## 5. Write a Python program to test whether a number is within 100 of 1000 or 2000:"
   ]
  },
  {
   "cell_type": "code",
   "execution_count": 18,
   "id": "2554ad9a-7cd5-4c43-809c-569abed29e03",
   "metadata": {},
   "outputs": [
    {
     "name": "stdin",
     "output_type": "stream",
     "text": [
      "Enter a number:  999\n"
     ]
    },
    {
     "name": "stdout",
     "output_type": "stream",
     "text": [
      "999 is within 100 of 1000 or 2000.\n"
     ]
    }
   ],
   "source": [
    "def within_100(num):\n",
    "    return abs(1000 - num) <= 100 or abs(2000 - num) <= 100\n",
    "\n",
    "number = int(input(\"Enter a number: \"))\n",
    "if within_100(number):\n",
    "    print(number, \"is within 100 of 1000 or 2000.\")\n",
    "else:\n",
    "    print(number, \"is not within 100 of 1000 or 2000.\")"
   ]
  },
  {
   "cell_type": "markdown",
   "id": "931943c5-0eae-4e2a-858b-62ca7d322502",
   "metadata": {},
   "source": [
    "## 6. Write a Python program to calculate the sum of three given numbers. If the values are equal, return three times their sum:"
   ]
  },
  {
   "cell_type": "code",
   "execution_count": 27,
   "id": "89bf4aa1-bac6-4d38-8bdd-2603707465f1",
   "metadata": {},
   "outputs": [
    {
     "name": "stdin",
     "output_type": "stream",
     "text": [
      "Enter a number:  12\n",
      "Enter a number:  12\n",
      "Enter a number:  12\n"
     ]
    },
    {
     "name": "stdout",
     "output_type": "stream",
     "text": [
      "three times Result their sum:\n",
      "Result: 108\n"
     ]
    }
   ],
   "source": [
    " number1 = int(input(\"Enter a number: \"))\n",
    "number2 = int(input(\"Enter a number: \"))\n",
    "number3 = int(input(\"Enter a number: \"))\n",
    "def sum(number1,number2,number3):\n",
    "   if number1==number2==number3 :\n",
    "    print(\"three times Result their sum:\")   \n",
    "    return 3*(number1+number2+number3)\n",
    "   else:\n",
    "     return number1+number2+number3\n",
    "\n",
    "result = sum(number1, number2, number3)\n",
    "print(\"Result:\", result)"
   ]
  },
  {
   "cell_type": "markdown",
   "id": "1104d7a5-bcc4-4283-8803-ce543028c4d9",
   "metadata": {},
   "source": [
    "## 7. Return the count of a given substring from a string:"
   ]
  },
  {
   "cell_type": "code",
   "execution_count": 29,
   "id": "64a6b5e1-f831-4bde-9d11-a18f4fb7d0e2",
   "metadata": {},
   "outputs": [
    {
     "data": {
      "text/plain": [
       "3"
      ]
     },
     "execution_count": 29,
     "metadata": {},
     "output_type": "execute_result"
    }
   ],
   "source": [
    "string = \"Hello, Hello, World! Hello!\"\n",
    "substring = \"Hello\"\n",
    "count = string.count(substring) # Return the occurrence of a given substring from a string:\n",
    "count"
   ]
  },
  {
   "cell_type": "code",
   "execution_count": null,
   "id": "ba5541cb-11bc-4662-a839-8eef32c63359",
   "metadata": {},
   "outputs": [],
   "source": []
  },
  {
   "cell_type": "code",
   "execution_count": null,
   "id": "94b738a7-a924-4384-80a2-9926049c0f24",
   "metadata": {},
   "outputs": [],
   "source": []
  },
  {
   "cell_type": "code",
   "execution_count": null,
   "id": "67030b38-e4e9-4bea-8953-48923c8e1881",
   "metadata": {},
   "outputs": [],
   "source": []
  }
 ],
 "metadata": {
  "kernelspec": {
   "display_name": "Python 3 (ipykernel)",
   "language": "python",
   "name": "python3"
  },
  "language_info": {
   "codemirror_mode": {
    "name": "ipython",
    "version": 3
   },
   "file_extension": ".py",
   "mimetype": "text/x-python",
   "name": "python",
   "nbconvert_exporter": "python",
   "pygments_lexer": "ipython3",
   "version": "3.11.4"
  }
 },
 "nbformat": 4,
 "nbformat_minor": 5
}
