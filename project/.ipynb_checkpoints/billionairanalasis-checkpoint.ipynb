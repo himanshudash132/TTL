{
 "cells": [
  {
   "cell_type": "code",
   "execution_count": 1,
   "id": "3fbd6cf6",
   "metadata": {
    "_cell_guid": "b1076dfc-b9ad-4769-8c92-a6c4dae69d19",
    "_uuid": "8f2839f25d086af736a60e9eeb907d3b93b6e0e5",
    "papermill": {
     "duration": 0.800384,
     "end_time": "2024-03-21T19:49:33.544815",
     "exception": false,
     "start_time": "2024-03-21T19:49:32.744431",
     "status": "completed"
    },
    "tags": []
   },
   "outputs": [],
   "source": [
    "# This Python 3 environment comes with many helpful analytics libraries installed\n",
    "# It is defined by the kaggle/python Docker image: https://github.com/kaggle/docker-python\n",
    "# For example, here's several helpful packages to load\n",
    "\n",
    "import numpy as np # linear algebra\n",
    "import pandas as pd # data processing, CSV file I/O (e.g. pd.read_csv)\n",
    "import matplotlib.pyplot as plt\n",
    "# Input data files are available in the read-only \"../input/\" directory\n",
    "# For example, running this (by clicking run or pressing Shift+Enter) will list all files under the input directory\n",
    "\n",
    "import os\n",
    "for dirname, _, filenames in os.walk('/kaggle/input'):\n",
    "    for filename in filenames:\n",
    "        print(os.path.join(dirname, filename))\n",
    "\n",
    "# You can write up to 20GB to the current directory (/kaggle/working/) that gets preserved as output when you create a version using \"Save & Run All\" \n",
    "# You can also write temporary files to /kaggle/temp/, but they won't be saved outside of the current session"
   ]
  },
  {
   "cell_type": "code",
   "execution_count": 2,
   "id": "ae71c77a",
   "metadata": {
    "papermill": {
     "duration": 0.034633,
     "end_time": "2024-03-21T19:49:33.585642",
     "exception": false,
     "start_time": "2024-03-21T19:49:33.551009",
     "status": "completed"
    },
    "tags": []
   },
   "outputs": [],
   "source": [
    "data=pd.read_csv(\"Billionaire.csv\")"
   ]
  },
  {
   "cell_type": "code",
   "execution_count": 3,
   "id": "f092430d",
   "metadata": {
    "papermill": {
     "duration": 0.029542,
     "end_time": "2024-03-21T19:49:33.621103",
     "exception": false,
     "start_time": "2024-03-21T19:49:33.591561",
     "status": "completed"
    },
    "tags": []
   },
   "outputs": [
    {
     "data": {
      "text/html": [
       "<div>\n",
       "<style scoped>\n",
       "    .dataframe tbody tr th:only-of-type {\n",
       "        vertical-align: middle;\n",
       "    }\n",
       "\n",
       "    .dataframe tbody tr th {\n",
       "        vertical-align: top;\n",
       "    }\n",
       "\n",
       "    .dataframe thead th {\n",
       "        text-align: right;\n",
       "    }\n",
       "</style>\n",
       "<table border=\"1\" class=\"dataframe\">\n",
       "  <thead>\n",
       "    <tr style=\"text-align: right;\">\n",
       "      <th></th>\n",
       "      <th>Name</th>\n",
       "      <th>NetWorth</th>\n",
       "      <th>Country</th>\n",
       "      <th>Source</th>\n",
       "      <th>Rank</th>\n",
       "      <th>Age</th>\n",
       "      <th>Industry</th>\n",
       "    </tr>\n",
       "  </thead>\n",
       "  <tbody>\n",
       "    <tr>\n",
       "      <th>0</th>\n",
       "      <td>Jeff Bezos</td>\n",
       "      <td>$177 B</td>\n",
       "      <td>United States</td>\n",
       "      <td>Amazon</td>\n",
       "      <td>1</td>\n",
       "      <td>57.0</td>\n",
       "      <td>Technology</td>\n",
       "    </tr>\n",
       "    <tr>\n",
       "      <th>1</th>\n",
       "      <td>Elon Musk</td>\n",
       "      <td>$151 B</td>\n",
       "      <td>United States</td>\n",
       "      <td>Tesla, SpaceX</td>\n",
       "      <td>2</td>\n",
       "      <td>49.0</td>\n",
       "      <td>Automotive</td>\n",
       "    </tr>\n",
       "    <tr>\n",
       "      <th>2</th>\n",
       "      <td>Bernard Arnault &amp; family</td>\n",
       "      <td>$150 B</td>\n",
       "      <td>France</td>\n",
       "      <td>LVMH</td>\n",
       "      <td>3</td>\n",
       "      <td>72.0</td>\n",
       "      <td>Fashion &amp; Retail</td>\n",
       "    </tr>\n",
       "    <tr>\n",
       "      <th>3</th>\n",
       "      <td>Bill Gates</td>\n",
       "      <td>$124 B</td>\n",
       "      <td>United States</td>\n",
       "      <td>Microsoft</td>\n",
       "      <td>4</td>\n",
       "      <td>65.0</td>\n",
       "      <td>Technology</td>\n",
       "    </tr>\n",
       "    <tr>\n",
       "      <th>4</th>\n",
       "      <td>Mark Zuckerberg</td>\n",
       "      <td>$97 B</td>\n",
       "      <td>United States</td>\n",
       "      <td>Facebook</td>\n",
       "      <td>5</td>\n",
       "      <td>36.0</td>\n",
       "      <td>Technology</td>\n",
       "    </tr>\n",
       "  </tbody>\n",
       "</table>\n",
       "</div>"
      ],
      "text/plain": [
       "                       Name NetWorth        Country         Source  Rank  \\\n",
       "0                Jeff Bezos   $177 B  United States         Amazon     1   \n",
       "1                 Elon Musk   $151 B  United States  Tesla, SpaceX     2   \n",
       "2  Bernard Arnault & family   $150 B         France           LVMH     3   \n",
       "3                Bill Gates   $124 B  United States      Microsoft     4   \n",
       "4           Mark Zuckerberg    $97 B  United States       Facebook     5   \n",
       "\n",
       "    Age          Industry  \n",
       "0  57.0        Technology  \n",
       "1  49.0        Automotive  \n",
       "2  72.0  Fashion & Retail  \n",
       "3  65.0        Technology  \n",
       "4  36.0        Technology  "
      ]
     },
     "execution_count": 3,
     "metadata": {},
     "output_type": "execute_result"
    }
   ],
   "source": [
    "data.head()"
   ]
  },
  {
   "cell_type": "code",
   "execution_count": 4,
   "id": "167a3604",
   "metadata": {
    "papermill": {
     "duration": 0.019668,
     "end_time": "2024-03-21T19:49:33.646793",
     "exception": false,
     "start_time": "2024-03-21T19:49:33.627125",
     "status": "completed"
    },
    "tags": []
   },
   "outputs": [
    {
     "data": {
      "text/plain": [
       "Name         0\n",
       "NetWorth     0\n",
       "Country      0\n",
       "Source       0\n",
       "Rank         0\n",
       "Age         79\n",
       "Industry     0\n",
       "dtype: int64"
      ]
     },
     "execution_count": 4,
     "metadata": {},
     "output_type": "execute_result"
    }
   ],
   "source": [
    "data.isnull().sum()"
   ]
  },
  {
   "cell_type": "code",
   "execution_count": 5,
   "id": "ab71c583",
   "metadata": {
    "papermill": {
     "duration": 0.021543,
     "end_time": "2024-03-21T19:49:33.674259",
     "exception": false,
     "start_time": "2024-03-21T19:49:33.652716",
     "status": "completed"
    },
    "tags": []
   },
   "outputs": [],
   "source": [
    "data=data.dropna()"
   ]
  },
  {
   "cell_type": "code",
   "execution_count": 6,
   "id": "5b1d5912",
   "metadata": {
    "papermill": {
     "duration": 0.017625,
     "end_time": "2024-03-21T19:49:33.697891",
     "exception": false,
     "start_time": "2024-03-21T19:49:33.680266",
     "status": "completed"
    },
    "tags": []
   },
   "outputs": [
    {
     "data": {
      "text/plain": [
       "Name        0\n",
       "NetWorth    0\n",
       "Country     0\n",
       "Source      0\n",
       "Rank        0\n",
       "Age         0\n",
       "Industry    0\n",
       "dtype: int64"
      ]
     },
     "execution_count": 6,
     "metadata": {},
     "output_type": "execute_result"
    }
   ],
   "source": [
    "data.isnull().sum()"
   ]
  },
  {
   "cell_type": "code",
   "execution_count": 7,
   "id": "71907256",
   "metadata": {
    "papermill": {
     "duration": 0.022982,
     "end_time": "2024-03-21T19:49:33.726968",
     "exception": false,
     "start_time": "2024-03-21T19:49:33.703986",
     "status": "completed"
    },
    "tags": []
   },
   "outputs": [
    {
     "data": {
      "text/html": [
       "<div>\n",
       "<style scoped>\n",
       "    .dataframe tbody tr th:only-of-type {\n",
       "        vertical-align: middle;\n",
       "    }\n",
       "\n",
       "    .dataframe tbody tr th {\n",
       "        vertical-align: top;\n",
       "    }\n",
       "\n",
       "    .dataframe thead th {\n",
       "        text-align: right;\n",
       "    }\n",
       "</style>\n",
       "<table border=\"1\" class=\"dataframe\">\n",
       "  <thead>\n",
       "    <tr style=\"text-align: right;\">\n",
       "      <th></th>\n",
       "      <th>Name</th>\n",
       "      <th>NetWorth</th>\n",
       "      <th>Country</th>\n",
       "      <th>Source</th>\n",
       "      <th>Rank</th>\n",
       "      <th>Age</th>\n",
       "      <th>Industry</th>\n",
       "    </tr>\n",
       "  </thead>\n",
       "  <tbody>\n",
       "    <tr>\n",
       "      <th>0</th>\n",
       "      <td>Jeff Bezos</td>\n",
       "      <td>$177 B</td>\n",
       "      <td>United States</td>\n",
       "      <td>Amazon</td>\n",
       "      <td>1</td>\n",
       "      <td>57.0</td>\n",
       "      <td>Technology</td>\n",
       "    </tr>\n",
       "    <tr>\n",
       "      <th>1</th>\n",
       "      <td>Elon Musk</td>\n",
       "      <td>$151 B</td>\n",
       "      <td>United States</td>\n",
       "      <td>Tesla, SpaceX</td>\n",
       "      <td>2</td>\n",
       "      <td>49.0</td>\n",
       "      <td>Automotive</td>\n",
       "    </tr>\n",
       "    <tr>\n",
       "      <th>2</th>\n",
       "      <td>Bernard Arnault &amp; family</td>\n",
       "      <td>$150 B</td>\n",
       "      <td>France</td>\n",
       "      <td>LVMH</td>\n",
       "      <td>3</td>\n",
       "      <td>72.0</td>\n",
       "      <td>Fashion &amp; Retail</td>\n",
       "    </tr>\n",
       "    <tr>\n",
       "      <th>3</th>\n",
       "      <td>Bill Gates</td>\n",
       "      <td>$124 B</td>\n",
       "      <td>United States</td>\n",
       "      <td>Microsoft</td>\n",
       "      <td>4</td>\n",
       "      <td>65.0</td>\n",
       "      <td>Technology</td>\n",
       "    </tr>\n",
       "    <tr>\n",
       "      <th>4</th>\n",
       "      <td>Mark Zuckerberg</td>\n",
       "      <td>$97 B</td>\n",
       "      <td>United States</td>\n",
       "      <td>Facebook</td>\n",
       "      <td>5</td>\n",
       "      <td>36.0</td>\n",
       "      <td>Technology</td>\n",
       "    </tr>\n",
       "    <tr>\n",
       "      <th>5</th>\n",
       "      <td>Warren Buffett</td>\n",
       "      <td>$96 B</td>\n",
       "      <td>United States</td>\n",
       "      <td>Berkshire Hathaway</td>\n",
       "      <td>6</td>\n",
       "      <td>90.0</td>\n",
       "      <td>Finance &amp; Investments</td>\n",
       "    </tr>\n",
       "    <tr>\n",
       "      <th>6</th>\n",
       "      <td>Larry Ellison</td>\n",
       "      <td>$93 B</td>\n",
       "      <td>United States</td>\n",
       "      <td>software</td>\n",
       "      <td>7</td>\n",
       "      <td>76.0</td>\n",
       "      <td>Technology</td>\n",
       "    </tr>\n",
       "    <tr>\n",
       "      <th>7</th>\n",
       "      <td>Larry Page</td>\n",
       "      <td>$91.5 B</td>\n",
       "      <td>United States</td>\n",
       "      <td>Google</td>\n",
       "      <td>8</td>\n",
       "      <td>48.0</td>\n",
       "      <td>Technology</td>\n",
       "    </tr>\n",
       "    <tr>\n",
       "      <th>8</th>\n",
       "      <td>Sergey Brin</td>\n",
       "      <td>$89 B</td>\n",
       "      <td>United States</td>\n",
       "      <td>Google</td>\n",
       "      <td>9</td>\n",
       "      <td>47.0</td>\n",
       "      <td>Technology</td>\n",
       "    </tr>\n",
       "    <tr>\n",
       "      <th>9</th>\n",
       "      <td>Mukesh Ambani</td>\n",
       "      <td>$84.5 B</td>\n",
       "      <td>India</td>\n",
       "      <td>diversified</td>\n",
       "      <td>10</td>\n",
       "      <td>63.0</td>\n",
       "      <td>Diversified</td>\n",
       "    </tr>\n",
       "  </tbody>\n",
       "</table>\n",
       "</div>"
      ],
      "text/plain": [
       "                       Name NetWorth        Country              Source  Rank  \\\n",
       "0                Jeff Bezos   $177 B  United States              Amazon     1   \n",
       "1                 Elon Musk   $151 B  United States       Tesla, SpaceX     2   \n",
       "2  Bernard Arnault & family   $150 B         France                LVMH     3   \n",
       "3                Bill Gates   $124 B  United States           Microsoft     4   \n",
       "4           Mark Zuckerberg    $97 B  United States            Facebook     5   \n",
       "5            Warren Buffett    $96 B  United States  Berkshire Hathaway     6   \n",
       "6             Larry Ellison    $93 B  United States            software     7   \n",
       "7                Larry Page  $91.5 B  United States              Google     8   \n",
       "8               Sergey Brin    $89 B  United States              Google     9   \n",
       "9             Mukesh Ambani  $84.5 B          India         diversified    10   \n",
       "\n",
       "    Age               Industry  \n",
       "0  57.0             Technology  \n",
       "1  49.0             Automotive  \n",
       "2  72.0       Fashion & Retail  \n",
       "3  65.0             Technology  \n",
       "4  36.0             Technology  \n",
       "5  90.0  Finance & Investments  \n",
       "6  76.0             Technology  \n",
       "7  48.0             Technology  \n",
       "8  47.0             Technology  \n",
       "9  63.0            Diversified  "
      ]
     },
     "execution_count": 7,
     "metadata": {},
     "output_type": "execute_result"
    }
   ],
   "source": [
    "data.head(10)"
   ]
  },
  {
   "cell_type": "code",
   "execution_count": 8,
   "id": "132fb3db",
   "metadata": {
    "papermill": {
     "duration": 0.018822,
     "end_time": "2024-03-21T19:49:33.752247",
     "exception": false,
     "start_time": "2024-03-21T19:49:33.733425",
     "status": "completed"
    },
    "tags": []
   },
   "outputs": [
    {
     "name": "stdout",
     "output_type": "stream",
     "text": [
      "                       Name NetWorth        Country         Source  Rank  \\\n",
      "0                Jeff Bezos   $177 B  United States         Amazon     1   \n",
      "1                 Elon Musk   $151 B  United States  Tesla, SpaceX     2   \n",
      "2  Bernard Arnault & family   $150 B         France           LVMH     3   \n",
      "3                Bill Gates   $124 B  United States      Microsoft     4   \n",
      "\n",
      "    Age          Industry  \n",
      "0  57.0        Technology  \n",
      "1  49.0        Automotive  \n",
      "2  72.0  Fashion & Retail  \n",
      "3  65.0        Technology  \n"
     ]
    }
   ],
   "source": [
    "print(data.head(4))"
   ]
  },
  {
   "cell_type": "code",
   "execution_count": 9,
   "id": "2b606317",
   "metadata": {
    "papermill": {
     "duration": 0.018299,
     "end_time": "2024-03-21T19:49:33.777073",
     "exception": false,
     "start_time": "2024-03-21T19:49:33.758774",
     "status": "completed"
    },
    "tags": []
   },
   "outputs": [
    {
     "data": {
      "text/plain": [
       "str"
      ]
     },
     "execution_count": 9,
     "metadata": {},
     "output_type": "execute_result"
    }
   ],
   "source": [
    "type(data[\"NetWorth\"][0])"
   ]
  },
  {
   "cell_type": "code",
   "execution_count": 10,
   "id": "65e2db29",
   "metadata": {
    "papermill": {
     "duration": 0.017892,
     "end_time": "2024-03-21T19:49:33.801634",
     "exception": false,
     "start_time": "2024-03-21T19:49:33.783742",
     "status": "completed"
    },
    "tags": []
   },
   "outputs": [],
   "source": [
    "data[\"NetWorth\"] = data[\"NetWorth\"].str.strip(\"$\")\n",
    "data[\"NetWorth\"] = data[\"NetWorth\"].str.strip(\" B\")\n"
   ]
  },
  {
   "cell_type": "code",
   "execution_count": 11,
   "id": "bba67601",
   "metadata": {
    "papermill": {
     "duration": 0.021629,
     "end_time": "2024-03-21T19:49:33.829824",
     "exception": false,
     "start_time": "2024-03-21T19:49:33.808195",
     "status": "completed"
    },
    "tags": []
   },
   "outputs": [
    {
     "data": {
      "text/html": [
       "<div>\n",
       "<style scoped>\n",
       "    .dataframe tbody tr th:only-of-type {\n",
       "        vertical-align: middle;\n",
       "    }\n",
       "\n",
       "    .dataframe tbody tr th {\n",
       "        vertical-align: top;\n",
       "    }\n",
       "\n",
       "    .dataframe thead th {\n",
       "        text-align: right;\n",
       "    }\n",
       "</style>\n",
       "<table border=\"1\" class=\"dataframe\">\n",
       "  <thead>\n",
       "    <tr style=\"text-align: right;\">\n",
       "      <th></th>\n",
       "      <th>Name</th>\n",
       "      <th>NetWorth</th>\n",
       "      <th>Country</th>\n",
       "      <th>Source</th>\n",
       "      <th>Rank</th>\n",
       "      <th>Age</th>\n",
       "      <th>Industry</th>\n",
       "    </tr>\n",
       "  </thead>\n",
       "  <tbody>\n",
       "    <tr>\n",
       "      <th>0</th>\n",
       "      <td>Jeff Bezos</td>\n",
       "      <td>177</td>\n",
       "      <td>United States</td>\n",
       "      <td>Amazon</td>\n",
       "      <td>1</td>\n",
       "      <td>57.0</td>\n",
       "      <td>Technology</td>\n",
       "    </tr>\n",
       "    <tr>\n",
       "      <th>1</th>\n",
       "      <td>Elon Musk</td>\n",
       "      <td>151</td>\n",
       "      <td>United States</td>\n",
       "      <td>Tesla, SpaceX</td>\n",
       "      <td>2</td>\n",
       "      <td>49.0</td>\n",
       "      <td>Automotive</td>\n",
       "    </tr>\n",
       "    <tr>\n",
       "      <th>2</th>\n",
       "      <td>Bernard Arnault &amp; family</td>\n",
       "      <td>150</td>\n",
       "      <td>France</td>\n",
       "      <td>LVMH</td>\n",
       "      <td>3</td>\n",
       "      <td>72.0</td>\n",
       "      <td>Fashion &amp; Retail</td>\n",
       "    </tr>\n",
       "    <tr>\n",
       "      <th>3</th>\n",
       "      <td>Bill Gates</td>\n",
       "      <td>124</td>\n",
       "      <td>United States</td>\n",
       "      <td>Microsoft</td>\n",
       "      <td>4</td>\n",
       "      <td>65.0</td>\n",
       "      <td>Technology</td>\n",
       "    </tr>\n",
       "    <tr>\n",
       "      <th>4</th>\n",
       "      <td>Mark Zuckerberg</td>\n",
       "      <td>97</td>\n",
       "      <td>United States</td>\n",
       "      <td>Facebook</td>\n",
       "      <td>5</td>\n",
       "      <td>36.0</td>\n",
       "      <td>Technology</td>\n",
       "    </tr>\n",
       "  </tbody>\n",
       "</table>\n",
       "</div>"
      ],
      "text/plain": [
       "                       Name NetWorth        Country         Source  Rank  \\\n",
       "0                Jeff Bezos      177  United States         Amazon     1   \n",
       "1                 Elon Musk      151  United States  Tesla, SpaceX     2   \n",
       "2  Bernard Arnault & family      150         France           LVMH     3   \n",
       "3                Bill Gates      124  United States      Microsoft     4   \n",
       "4           Mark Zuckerberg       97  United States       Facebook     5   \n",
       "\n",
       "    Age          Industry  \n",
       "0  57.0        Technology  \n",
       "1  49.0        Automotive  \n",
       "2  72.0  Fashion & Retail  \n",
       "3  65.0        Technology  \n",
       "4  36.0        Technology  "
      ]
     },
     "execution_count": 11,
     "metadata": {},
     "output_type": "execute_result"
    }
   ],
   "source": [
    "data.head()"
   ]
  },
  {
   "cell_type": "code",
   "execution_count": 12,
   "id": "4ea8a55d",
   "metadata": {
    "papermill": {
     "duration": 0.016495,
     "end_time": "2024-03-21T19:49:33.853926",
     "exception": false,
     "start_time": "2024-03-21T19:49:33.837431",
     "status": "completed"
    },
    "tags": []
   },
   "outputs": [
    {
     "data": {
      "text/plain": [
       "numpy.float64"
      ]
     },
     "execution_count": 12,
     "metadata": {},
     "output_type": "execute_result"
    }
   ],
   "source": [
    "data[\"NetWorth\"] = data[\"NetWorth\"].astype(float)\n",
    "type(data[\"NetWorth\"][0])"
   ]
  },
  {
   "cell_type": "markdown",
   "id": "8bf3181a",
   "metadata": {
    "papermill": {
     "duration": 0.006418,
     "end_time": "2024-03-21T19:49:33.866994",
     "exception": false,
     "start_time": "2024-03-21T19:49:33.860576",
     "status": "completed"
    },
    "tags": []
   },
   "source": [
    "# NETWORTH BAR GRAPH OF TOP 7"
   ]
  },
  {
   "cell_type": "code",
   "execution_count": 13,
   "id": "47e1f040",
   "metadata": {
    "papermill": {
     "duration": 0.332723,
     "end_time": "2024-03-21T19:49:34.206401",
     "exception": false,
     "start_time": "2024-03-21T19:49:33.873678",
     "status": "completed"
    },
    "tags": []
   },
   "outputs": [
    {
     "data": {
      "image/png": "[encoded data removed]",
      "text/plain": [
       "<Figure size 2000x1000 with 1 Axes>"
      ]
     },
     "metadata": {},
     "output_type": "display_data"
    }
   ],
   "source": [
    "df=data.sort_values(by=[\"NetWorth\"],ascending=False).head(7)\n",
    "plt.figure(figsize=(20,10))\n",
    "plt.bar(df[\"Name\"],df[\"NetWorth\"])\n",
    "plt.show()"
   ]
  },
  {
   "cell_type": "markdown",
   "id": "b81c7236",
   "metadata": {
    "papermill": {
     "duration": 0.006978,
     "end_time": "2024-03-21T19:49:34.220840",
     "exception": false,
     "start_time": "2024-03-21T19:49:34.213862",
     "status": "completed"
    },
    "tags": []
   },
   "source": [
    "# TOP 5 DOMAINS WITH MOST NUMBER OF BILLIONAIR"
   ]
  },
  {
   "cell_type": "code",
   "execution_count": 14,
   "id": "6cf54771",
   "metadata": {
    "papermill": {
     "duration": 0.025289,
     "end_time": "2024-03-21T19:49:34.253482",
     "exception": false,
     "start_time": "2024-03-21T19:49:34.228193",
     "status": "completed"
    },
    "tags": []
   },
   "outputs": [
    {
     "data": {
      "text/html": [
       "<div>\n",
       "<style scoped>\n",
       "    .dataframe tbody tr th:only-of-type {\n",
       "        vertical-align: middle;\n",
       "    }\n",
       "\n",
       "    .dataframe tbody tr th {\n",
       "        vertical-align: top;\n",
       "    }\n",
       "\n",
       "    .dataframe thead th {\n",
       "        text-align: right;\n",
       "    }\n",
       "</style>\n",
       "<table border=\"1\" class=\"dataframe\">\n",
       "  <thead>\n",
       "    <tr style=\"text-align: right;\">\n",
       "      <th></th>\n",
       "      <th>Name</th>\n",
       "      <th>NetWorth</th>\n",
       "      <th>Country</th>\n",
       "      <th>Source</th>\n",
       "      <th>Rank</th>\n",
       "      <th>Age</th>\n",
       "      <th>Industry</th>\n",
       "    </tr>\n",
       "  </thead>\n",
       "  <tbody>\n",
       "    <tr>\n",
       "      <th>0</th>\n",
       "      <td>Jeff Bezos</td>\n",
       "      <td>177.0</td>\n",
       "      <td>United States</td>\n",
       "      <td>Amazon</td>\n",
       "      <td>1</td>\n",
       "      <td>57.0</td>\n",
       "      <td>Technology</td>\n",
       "    </tr>\n",
       "    <tr>\n",
       "      <th>1</th>\n",
       "      <td>Elon Musk</td>\n",
       "      <td>151.0</td>\n",
       "      <td>United States</td>\n",
       "      <td>Tesla, SpaceX</td>\n",
       "      <td>2</td>\n",
       "      <td>49.0</td>\n",
       "      <td>Automotive</td>\n",
       "    </tr>\n",
       "    <tr>\n",
       "      <th>2</th>\n",
       "      <td>Bernard Arnault &amp; family</td>\n",
       "      <td>150.0</td>\n",
       "      <td>France</td>\n",
       "      <td>LVMH</td>\n",
       "      <td>3</td>\n",
       "      <td>72.0</td>\n",
       "      <td>Fashion &amp; Retail</td>\n",
       "    </tr>\n",
       "    <tr>\n",
       "      <th>3</th>\n",
       "      <td>Bill Gates</td>\n",
       "      <td>124.0</td>\n",
       "      <td>United States</td>\n",
       "      <td>Microsoft</td>\n",
       "      <td>4</td>\n",
       "      <td>65.0</td>\n",
       "      <td>Technology</td>\n",
       "    </tr>\n",
       "    <tr>\n",
       "      <th>4</th>\n",
       "      <td>Mark Zuckerberg</td>\n",
       "      <td>97.0</td>\n",
       "      <td>United States</td>\n",
       "      <td>Facebook</td>\n",
       "      <td>5</td>\n",
       "      <td>36.0</td>\n",
       "      <td>Technology</td>\n",
       "    </tr>\n",
       "    <tr>\n",
       "      <th>5</th>\n",
       "      <td>Warren Buffett</td>\n",
       "      <td>96.0</td>\n",
       "      <td>United States</td>\n",
       "      <td>Berkshire Hathaway</td>\n",
       "      <td>6</td>\n",
       "      <td>90.0</td>\n",
       "      <td>Finance &amp; Investments</td>\n",
       "    </tr>\n",
       "    <tr>\n",
       "      <th>6</th>\n",
       "      <td>Larry Ellison</td>\n",
       "      <td>93.0</td>\n",
       "      <td>United States</td>\n",
       "      <td>software</td>\n",
       "      <td>7</td>\n",
       "      <td>76.0</td>\n",
       "      <td>Technology</td>\n",
       "    </tr>\n",
       "    <tr>\n",
       "      <th>7</th>\n",
       "      <td>Larry Page</td>\n",
       "      <td>91.5</td>\n",
       "      <td>United States</td>\n",
       "      <td>Google</td>\n",
       "      <td>8</td>\n",
       "      <td>48.0</td>\n",
       "      <td>Technology</td>\n",
       "    </tr>\n",
       "    <tr>\n",
       "      <th>8</th>\n",
       "      <td>Sergey Brin</td>\n",
       "      <td>89.0</td>\n",
       "      <td>United States</td>\n",
       "      <td>Google</td>\n",
       "      <td>9</td>\n",
       "      <td>47.0</td>\n",
       "      <td>Technology</td>\n",
       "    </tr>\n",
       "    <tr>\n",
       "      <th>9</th>\n",
       "      <td>Mukesh Ambani</td>\n",
       "      <td>84.5</td>\n",
       "      <td>India</td>\n",
       "      <td>diversified</td>\n",
       "      <td>10</td>\n",
       "      <td>63.0</td>\n",
       "      <td>Diversified</td>\n",
       "    </tr>\n",
       "  </tbody>\n",
       "</table>\n",
       "</div>"
      ],
      "text/plain": [
       "                       Name  NetWorth        Country              Source  \\\n",
       "0                Jeff Bezos     177.0  United States              Amazon   \n",
       "1                 Elon Musk     151.0  United States       Tesla, SpaceX   \n",
       "2  Bernard Arnault & family     150.0         France                LVMH   \n",
       "3                Bill Gates     124.0  United States           Microsoft   \n",
       "4           Mark Zuckerberg      97.0  United States            Facebook   \n",
       "5            Warren Buffett      96.0  United States  Berkshire Hathaway   \n",
       "6             Larry Ellison      93.0  United States            software   \n",
       "7                Larry Page      91.5  United States              Google   \n",
       "8               Sergey Brin      89.0  United States              Google   \n",
       "9             Mukesh Ambani      84.5          India         diversified   \n",
       "\n",
       "   Rank   Age               Industry  \n",
       "0     1  57.0             Technology  \n",
       "1     2  49.0             Automotive  \n",
       "2     3  72.0       Fashion & Retail  \n",
       "3     4  65.0             Technology  \n",
       "4     5  36.0             Technology  \n",
       "5     6  90.0  Finance & Investments  \n",
       "6     7  76.0             Technology  \n",
       "7     8  48.0             Technology  \n",
       "8     9  47.0             Technology  \n",
       "9    10  63.0            Diversified  "
      ]
     },
     "execution_count": 14,
     "metadata": {},
     "output_type": "execute_result"
    }
   ],
   "source": [
    "data.head(10)"
   ]
  },
  {
   "cell_type": "code",
   "execution_count": 15,
   "id": "e1adefa3",
   "metadata": {
    "papermill": {
     "duration": 0.016239,
     "end_time": "2024-03-21T19:49:34.277428",
     "exception": false,
     "start_time": "2024-03-21T19:49:34.261189",
     "status": "completed"
    },
    "tags": []
   },
   "outputs": [],
   "source": [
    "top5=data[\"Industry\"].value_counts().head(5)"
   ]
  },
  {
   "cell_type": "code",
   "execution_count": 16,
   "id": "b5d39ebb",
   "metadata": {
    "papermill": {
     "duration": 0.01728,
     "end_time": "2024-03-21T19:49:34.302352",
     "exception": false,
     "start_time": "2024-03-21T19:49:34.285072",
     "status": "completed"
    },
    "tags": []
   },
   "outputs": [
    {
     "data": {
      "text/plain": [
       "Finance & Investments    365\n",
       "Technology               355\n",
       "Manufacturing            317\n",
       "Fashion & Retail         268\n",
       "Healthcare               213\n",
       "Name: Industry, dtype: int64"
      ]
     },
     "execution_count": 16,
     "metadata": {},
     "output_type": "execute_result"
    }
   ],
   "source": [
    "top5.head()"
   ]
  },
  {
   "cell_type": "code",
   "execution_count": 17,
   "id": "4c657b92",
   "metadata": {
    "papermill": {
     "duration": 0.014745,
     "end_time": "2024-03-21T19:49:34.324835",
     "exception": false,
     "start_time": "2024-03-21T19:49:34.310090",
     "status": "completed"
    },
    "tags": []
   },
   "outputs": [],
   "source": [
    "x=top5.index\n",
    "y=top5.values"
   ]
  },
  {
   "cell_type": "code",
   "execution_count": 18,
   "id": "3ce53645",
   "metadata": {
    "papermill": {
     "duration": 0.238034,
     "end_time": "2024-03-21T19:49:34.570642",
     "exception": false,
     "start_time": "2024-03-21T19:49:34.332608",
     "status": "completed"
    },
    "tags": []
   },
   "outputs": [
    {
     "data": {
      "image/png": "[encoded data removed]",
      "text/plain": [
       "<Figure size 500x500 with 1 Axes>"
      ]
     },
     "metadata": {},
     "output_type": "display_data"
    }
   ],
   "source": [
    "col=[\"red\",\"blue\",\"skyblue\",\"green\",\"tomato\"]\n",
    "exp=[0.3,0,0,0,0]\n",
    "plt.figure(figsize=(5,5))\n",
    "plt.pie(y,labels=x,colors=col,explode=exp,autopct='%1.1f%%', startangle=90)\n",
    "plt.title(\"top 5 domains with the most number of billionaires\",fontsize=30)\n",
    "plt.show()"
   ]
  },
  {
   "cell_type": "markdown",
   "id": "6b92d3da",
   "metadata": {
    "papermill": {
     "duration": 0.009415,
     "end_time": "2024-03-21T19:49:34.595096",
     "exception": false,
     "start_time": "2024-03-21T19:49:34.585681",
     "status": "completed"
    },
    "tags": []
   },
   "source": [
    "top 10 country with most number of Billionair"
   ]
  },
  {
   "cell_type": "code",
   "execution_count": 19,
   "id": "9014617b",
   "metadata": {
    "papermill": {
     "duration": 0.019984,
     "end_time": "2024-03-21T19:49:34.623796",
     "exception": false,
     "start_time": "2024-03-21T19:49:34.603812",
     "status": "completed"
    },
    "tags": []
   },
   "outputs": [
    {
     "data": {
      "text/plain": [
       "United States     720\n",
       "China             610\n",
       "India             134\n",
       "Russia            118\n",
       "Germany           115\n",
       "Hong Kong          68\n",
       "Brazil             61\n",
       "Canada             60\n",
       "United Kingdom     54\n",
       "Italy              49\n",
       "Name: Country, dtype: int64"
      ]
     },
     "execution_count": 19,
     "metadata": {},
     "output_type": "execute_result"
    }
   ],
   "source": [
    "\n",
    "top10=data[\"Country\"].value_counts().head(10)\n",
    "top10"
   ]
  },
  {
   "cell_type": "code",
   "execution_count": 20,
   "id": "2963f043",
   "metadata": {
    "papermill": {
     "duration": 0.015887,
     "end_time": "2024-03-21T19:49:34.648523",
     "exception": false,
     "start_time": "2024-03-21T19:49:34.632636",
     "status": "completed"
    },
    "tags": []
   },
   "outputs": [],
   "source": [
    "x=top10.index\n",
    "y=top10.values"
   ]
  },
  {
   "cell_type": "code",
   "execution_count": 21,
   "id": "68a84dc3",
   "metadata": {
    "papermill": {
     "duration": 0.19907,
     "end_time": "2024-03-21T19:49:34.856239",
     "exception": false,
     "start_time": "2024-03-21T19:49:34.657169",
     "status": "completed"
    },
    "tags": []
   },
   "outputs": [
    {
     "data": {
      "image/png": "[encoded data removed]",
      "text/plain": [
       "<Figure size 640x480 with 1 Axes>"
      ]
     },
     "metadata": {},
     "output_type": "display_data"
    }
   ],
   "source": [
    "plt.pie(y,labels=x,autopct=\"%1.1f%%\")\n",
    "plt.show()"
   ]
  },
  {
   "cell_type": "code",
   "execution_count": null,
   "id": "d91660a7",
   "metadata": {
    "papermill": {
     "duration": 0.014785,
     "end_time": "2024-03-21T19:49:34.886186",
     "exception": false,
     "start_time": "2024-03-21T19:49:34.871401",
     "status": "completed"
    },
    "tags": []
   },
   "outputs": [],
   "source": []
  }
 ],
 "metadata": {
  "kaggle": {
   "accelerator": "none",
   "dataSources": [
    {
     "datasetId": 1287848,
     "sourceId": 2239811,
     "sourceType": "datasetVersion"
    }
   ],
   "dockerImageVersionId": 30664,
   "isGpuEnabled": false,
   "isInternetEnabled": false,
   "language": "python",
   "sourceType": "notebook"
  },
  "kernelspec": {
   "display_name": "Python 3 (ipykernel)",
   "language": "python",
   "name": "python3"
  },
  "language_info": {
   "codemirror_mode": {
    "name": "ipython",
    "version": 3
   },
   "file_extension": ".py",
   "mimetype": "text/x-python",
   "name": "python",
   "nbconvert_exporter": "python",
   "pygments_lexer": "ipython3",
   "version": "3.11.4"
  },
  "papermill": {
   "default_parameters": {},
   "duration": 5.464752,
   "end_time": "2024-03-21T19:49:35.321596",
   "environment_variables": {},
   "exception": null,
   "input_path": "__notebook__.ipynb",
   "output_path": "__notebook__.ipynb",
   "parameters": {},
   "start_time": "2024-03-21T19:49:29.856844",
   "version": "2.5.0"
  }
 },
 "nbformat": 4,
 "nbformat_minor": 5
}
