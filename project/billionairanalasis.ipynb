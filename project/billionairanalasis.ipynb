{
 "cells": [
  {
   "cell_type": "code",
   "execution_count": null,
   "id": "3fbd6cf6",
   "metadata": {
    "_cell_guid": "b1076dfc-b9ad-4769-8c92-a6c4dae69d19",
    "_uuid": "8f2839f25d086af736a60e9eeb907d3b93b6e0e5",
    "papermill": {
     "duration": 0.800384,
     "end_time": "2024-03-21T19:49:33.544815",
     "exception": false,
     "start_time": "2024-03-21T19:49:32.744431",
     "status": "completed"
    },
    "tags": []
   },
   "outputs": [],
   "source": [
    "# This Python 3 environment comes with many helpful analytics libraries installed\n",
    "# It is defined by the kaggle/python Docker image: https://github.com/kaggle/docker-python\n",
    "# For example, here's several helpful packages to load\n",
    "\n",
    "import numpy as np # linear algebra\n",
    "import pandas as pd # data processing, CSV file I/O (e.g. pd.read_csv)\n",
    "import matplotlib.pyplot as plt\n",
    "# Input data files are available in the read-only \"../input/\" directory\n",
    "# For example, running this (by clicking run or pressing Shift+Enter) will list all files under the input directory\n",
    "\n",
    "import os\n",
    "for dirname, _, filenames in os.walk('/kaggle/input'):\n",
    "    for filename in filenames:\n",
    "        print(os.path.join(dirname, filename))\n",
    "\n",
    "# You can write up to 20GB to the current directory (/kaggle/working/) that gets preserved as output when you create a version using \"Save & Run All\" \n",
    "# You can also write temporary files to /kaggle/temp/, but they won't be saved outside of the current session"
   ]
  },
  {
   "cell_type": "code",
   "execution_count": null,
   "id": "ae71c77a",
   "metadata": {
    "papermill": {
     "duration": 0.034633,
     "end_time": "2024-03-21T19:49:33.585642",
     "exception": false,
     "start_time": "2024-03-21T19:49:33.551009",
     "status": "completed"
    },
    "tags": []
   },
   "outputs": [],
   "source": [
    "data=pd.read_csv(\"Billionaire.csv\")"
   ]
  },
  {
   "cell_type": "code",
   "execution_count": null,
   "id": "f092430d",
   "metadata": {
    "papermill": {
     "duration": 0.029542,
     "end_time": "2024-03-21T19:49:33.621103",
     "exception": false,
     "start_time": "2024-03-21T19:49:33.591561",
     "status": "completed"
    },
    "tags": []
   },
   "outputs": [],
   "source": [
    "data.head()"
   ]
  },
  {
   "cell_type": "code",
   "execution_count": null,
   "id": "167a3604",
   "metadata": {
    "papermill": {
     "duration": 0.019668,
     "end_time": "2024-03-21T19:49:33.646793",
     "exception": false,
     "start_time": "2024-03-21T19:49:33.627125",
     "status": "completed"
    },
    "tags": []
   },
   "outputs": [],
   "source": [
    "data.isnull().sum()"
   ]
  },
  {
   "cell_type": "code",
   "execution_count": null,
   "id": "ab71c583",
   "metadata": {
    "papermill": {
     "duration": 0.021543,
     "end_time": "2024-03-21T19:49:33.674259",
     "exception": false,
     "start_time": "2024-03-21T19:49:33.652716",
     "status": "completed"
    },
    "tags": []
   },
   "outputs": [],
   "source": [
    "data=data.dropna()"
   ]
  },
  {
   "cell_type": "code",
   "execution_count": null,
   "id": "5b1d5912",
   "metadata": {
    "papermill": {
     "duration": 0.017625,
     "end_time": "2024-03-21T19:49:33.697891",
     "exception": false,
     "start_time": "2024-03-21T19:49:33.680266",
     "status": "completed"
    },
    "tags": []
   },
   "outputs": [],
   "source": [
    "data.isnull().sum()"
   ]
  },
  {
   "cell_type": "code",
   "execution_count": null,
   "id": "71907256",
   "metadata": {
    "papermill": {
     "duration": 0.022982,
     "end_time": "2024-03-21T19:49:33.726968",
     "exception": false,
     "start_time": "2024-03-21T19:49:33.703986",
     "status": "completed"
    },
    "tags": []
   },
   "outputs": [],
   "source": [
    "data.head(10)"
   ]
  },
  {
   "cell_type": "code",
   "execution_count": null,
   "id": "132fb3db",
   "metadata": {
    "papermill": {
     "duration": 0.018822,
     "end_time": "2024-03-21T19:49:33.752247",
     "exception": false,
     "start_time": "2024-03-21T19:49:33.733425",
     "status": "completed"
    },
    "tags": []
   },
   "outputs": [],
   "source": [
    "print(data.head(4))"
   ]
  },
  {
   "cell_type": "code",
   "execution_count": null,
   "id": "2b606317",
   "metadata": {
    "papermill": {
     "duration": 0.018299,
     "end_time": "2024-03-21T19:49:33.777073",
     "exception": false,
     "start_time": "2024-03-21T19:49:33.758774",
     "status": "completed"
    },
    "tags": []
   },
   "outputs": [],
   "source": [
    "type(data[\"NetWorth\"][0])"
   ]
  },
  {
   "cell_type": "code",
   "execution_count": null,
   "id": "65e2db29",
   "metadata": {
    "papermill": {
     "duration": 0.017892,
     "end_time": "2024-03-21T19:49:33.801634",
     "exception": false,
     "start_time": "2024-03-21T19:49:33.783742",
     "status": "completed"
    },
    "tags": []
   },
   "outputs": [],
   "source": [
    "data[\"NetWorth\"] = data[\"NetWorth\"].str.strip(\"$\")\n",
    "data[\"NetWorth\"] = data[\"NetWorth\"].str.strip(\" B\")\n"
   ]
  },
  {
   "cell_type": "code",
   "execution_count": null,
   "id": "bba67601",
   "metadata": {
    "papermill": {
     "duration": 0.021629,
     "end_time": "2024-03-21T19:49:33.829824",
     "exception": false,
     "start_time": "2024-03-21T19:49:33.808195",
     "status": "completed"
    },
    "tags": []
   },
   "outputs": [],
   "source": [
    "data.head()"
   ]
  },
  {
   "cell_type": "code",
   "execution_count": null,
   "id": "4ea8a55d",
   "metadata": {
    "papermill": {
     "duration": 0.016495,
     "end_time": "2024-03-21T19:49:33.853926",
     "exception": false,
     "start_time": "2024-03-21T19:49:33.837431",
     "status": "completed"
    },
    "tags": []
   },
   "outputs": [],
   "source": [
    "data[\"NetWorth\"] = data[\"NetWorth\"].astype(float)\n",
    "type(data[\"NetWorth\"][0])"
   ]
  },
  {
   "cell_type": "markdown",
   "id": "8bf3181a",
   "metadata": {
    "papermill": {
     "duration": 0.006418,
     "end_time": "2024-03-21T19:49:33.866994",
     "exception": false,
     "start_time": "2024-03-21T19:49:33.860576",
     "status": "completed"
    },
    "tags": []
   },
   "source": [
    "# NETWORTH BAR GRAPH OF TOP 7"
   ]
  },
  {
   "cell_type": "code",
   "execution_count": null,
   "id": "47e1f040",
   "metadata": {
    "papermill": {
     "duration": 0.332723,
     "end_time": "2024-03-21T19:49:34.206401",
     "exception": false,
     "start_time": "2024-03-21T19:49:33.873678",
     "status": "completed"
    },
    "tags": []
   },
   "outputs": [],
   "source": [
    "df=data.sort_values(by=[\"NetWorth\"],ascending=False).head(7)\n",
    "plt.figure(figsize=(20,10))\n",
    "plt.bar(df[\"Name\"],df[\"NetWorth\"])\n",
    "plt.show()"
   ]
  },
  {
   "cell_type": "markdown",
   "id": "b81c7236",
   "metadata": {
    "papermill": {
     "duration": 0.006978,
     "end_time": "2024-03-21T19:49:34.220840",
     "exception": false,
     "start_time": "2024-03-21T19:49:34.213862",
     "status": "completed"
    },
    "tags": []
   },
   "source": [
    "# TOP 5 DOMAINS WITH MOST NUMBER OF BILLIONAIR"
   ]
  },
  {
   "cell_type": "code",
   "execution_count": null,
   "id": "6cf54771",
   "metadata": {
    "papermill": {
     "duration": 0.025289,
     "end_time": "2024-03-21T19:49:34.253482",
     "exception": false,
     "start_time": "2024-03-21T19:49:34.228193",
     "status": "completed"
    },
    "tags": []
   },
   "outputs": [],
   "source": [
    "data.head(10)"
   ]
  },
  {
   "cell_type": "code",
   "execution_count": null,
   "id": "e1adefa3",
   "metadata": {
    "papermill": {
     "duration": 0.016239,
     "end_time": "2024-03-21T19:49:34.277428",
     "exception": false,
     "start_time": "2024-03-21T19:49:34.261189",
     "status": "completed"
    },
    "tags": []
   },
   "outputs": [],
   "source": [
    "top5=data[\"Industry\"].value_counts().head(5)"
   ]
  },
  {
   "cell_type": "code",
   "execution_count": null,
   "id": "b5d39ebb",
   "metadata": {
    "papermill": {
     "duration": 0.01728,
     "end_time": "2024-03-21T19:49:34.302352",
     "exception": false,
     "start_time": "2024-03-21T19:49:34.285072",
     "status": "completed"
    },
    "tags": []
   },
   "outputs": [],
   "source": [
    "top5.head()"
   ]
  },
  {
   "cell_type": "code",
   "execution_count": null,
   "id": "4c657b92",
   "metadata": {
    "papermill": {
     "duration": 0.014745,
     "end_time": "2024-03-21T19:49:34.324835",
     "exception": false,
     "start_time": "2024-03-21T19:49:34.310090",
     "status": "completed"
    },
    "tags": []
   },
   "outputs": [],
   "source": [
    "x=top5.index\n",
    "y=top5.values"
   ]
  },
  {
   "cell_type": "code",
   "execution_count": null,
   "id": "3ce53645",
   "metadata": {
    "papermill": {
     "duration": 0.238034,
     "end_time": "2024-03-21T19:49:34.570642",
     "exception": false,
     "start_time": "2024-03-21T19:49:34.332608",
     "status": "completed"
    },
    "tags": []
   },
   "outputs": [],
   "source": [
    "col=[\"red\",\"blue\",\"skyblue\",\"green\",\"tomato\"]\n",
    "exp=[0.3,0,0,0,0]\n",
    "plt.figure(figsize=(5,5))\n",
    "plt.pie(y,labels=x,colors=col,explode=exp,autopct='%1.1f%%', startangle=90)\n",
    "plt.title(\"top 5 domains with the most number of billionaires\",fontsize=30)\n",
    "plt.show()"
   ]
  },
  {
   "cell_type": "markdown",
   "id": "6b92d3da",
   "metadata": {
    "papermill": {
     "duration": 0.009415,
     "end_time": "2024-03-21T19:49:34.595096",
     "exception": false,
     "start_time": "2024-03-21T19:49:34.585681",
     "status": "completed"
    },
    "tags": []
   },
   "source": [
    "top 10 country with most number of Billionair"
   ]
  },
  {
   "cell_type": "code",
   "execution_count": null,
   "id": "9014617b",
   "metadata": {
    "papermill": {
     "duration": 0.019984,
     "end_time": "2024-03-21T19:49:34.623796",
     "exception": false,
     "start_time": "2024-03-21T19:49:34.603812",
     "status": "completed"
    },
    "tags": []
   },
   "outputs": [],
   "source": [
    "\n",
    "top10=data[\"Country\"].value_counts().head(10)\n",
    "top10"
   ]
  },
  {
   "cell_type": "code",
   "execution_count": null,
   "id": "2963f043",
   "metadata": {
    "papermill": {
     "duration": 0.015887,
     "end_time": "2024-03-21T19:49:34.648523",
     "exception": false,
     "start_time": "2024-03-21T19:49:34.632636",
     "status": "completed"
    },
    "tags": []
   },
   "outputs": [],
   "source": [
    "x=top10.index\n",
    "y=top10.values"
   ]
  },
  {
   "cell_type": "code",
   "execution_count": null,
   "id": "68a84dc3",
   "metadata": {
    "papermill": {
     "duration": 0.19907,
     "end_time": "2024-03-21T19:49:34.856239",
     "exception": false,
     "start_time": "2024-03-21T19:49:34.657169",
     "status": "completed"
    },
    "tags": []
   },
   "outputs": [],
   "source": [
    "plt.pie(y,labels=x,autopct=\"%1.1f%%\")\n",
    "plt.show()"
   ]
  },
  {
   "cell_type": "code",
   "execution_count": null,
   "id": "d91660a7",
   "metadata": {
    "papermill": {
     "duration": 0.014785,
     "end_time": "2024-03-21T19:49:34.886186",
     "exception": false,
     "start_time": "2024-03-21T19:49:34.871401",
     "status": "completed"
    },
    "tags": []
   },
   "outputs": [],
   "source": []
  }
 ],
 "metadata": {
  "kaggle": {
   "accelerator": "none",
   "dataSources": [
    {
     "datasetId": 1287848,
     "sourceId": 2239811,
     "sourceType": "datasetVersion"
    }
   ],
   "dockerImageVersionId": 30664,
   "isGpuEnabled": false,
   "isInternetEnabled": false,
   "language": "python",
   "sourceType": "notebook"
  },
  "kernelspec": {
   "display_name": "Python 3 (ipykernel)",
   "language": "python",
   "name": "python3"
  },
  "language_info": {
   "codemirror_mode": {
    "name": "ipython",
    "version": 3
   },
   "file_extension": ".py",
   "mimetype": "text/x-python",
   "name": "python",
   "nbconvert_exporter": "python",
   "pygments_lexer": "ipython3",
   "version": "3.11.4"
  },
  "papermill": {
   "default_parameters": {},
   "duration": 5.464752,
   "end_time": "2024-03-21T19:49:35.321596",
   "environment_variables": {},
   "exception": null,
   "input_path": "__notebook__.ipynb",
   "output_path": "__notebook__.ipynb",
   "parameters": {},
   "start_time": "2024-03-21T19:49:29.856844",
   "version": "2.5.0"
  }
 },
 "nbformat": 4,
 "nbformat_minor": 5
}
