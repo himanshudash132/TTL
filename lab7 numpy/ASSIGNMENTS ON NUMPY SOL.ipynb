{
 "cells": [
  {
   "cell_type": "markdown",
   "id": "cc5e6420-42cb-4585-86af-1f0b032b0491",
   "metadata": {},
   "source": [
    "## ASSIGNMENTS ON NUMPY"
   ]
  },
  {
   "cell_type": "code",
   "execution_count": 2,
   "id": "9269ad64-dc2b-44a8-bd52-de772be35d86",
   "metadata": {},
   "outputs": [],
   "source": [
    "import numpy as np\n",
    "import math"
   ]
  },
  {
   "cell_type": "markdown",
   "id": "b43a845b-d9fa-4bc1-b45f-92a20a2f1072",
   "metadata": {},
   "source": [
    "## EXERCISE 1 - Element-wise addition of 2 numpy arrays\n",
    "Given are 2 similar dimensional numpy arrays, how to get a numpy array output in which every\n",
    "element is an element-wise sum of the 2 numpy arrays?"
   ]
  },
  {
   "cell_type": "code",
   "execution_count": 3,
   "id": "702b4c18-9fa0-4d91-988d-1ed867b3b46d",
   "metadata": {},
   "outputs": [
    {
     "data": {
      "text/plain": [
       "array([5, 7, 9])"
      ]
     },
     "execution_count": 3,
     "metadata": {},
     "output_type": "execute_result"
    }
   ],
   "source": [
    "a1 = np.array([1,2,3])\n",
    "a2 = np.array([4,5,6])\n",
    "\n",
    "r = a1+a2\n",
    "r"
   ]
  },
  {
   "cell_type": "markdown",
   "id": "215e17c6-eebe-4249-a65b-682907075306",
   "metadata": {},
   "source": [
    "## EXERCISE 2 - Multiplying a matrix (numpy array) by a scalar\n",
    "Given a numpy array (matrix), how to get a numpy array output which is equal to the original\n",
    "matrix multiplied by a scalar?"
   ]
  },
  {
   "cell_type": "code",
   "execution_count": 4,
   "id": "7951534b-80fc-433c-9589-6dc5932496e3",
   "metadata": {},
   "outputs": [
    {
     "data": {
      "text/plain": [
       "array([[ 2,  4,  6],\n",
       "       [ 8, 10, 12],\n",
       "       [14, 16, 18]])"
      ]
     },
     "execution_count": 4,
     "metadata": {},
     "output_type": "execute_result"
    }
   ],
   "source": [
    "matrix = np.array([[1, 2, 3], [4, 5, 6], [7, 8, 9]])\n",
    "scalar = 2\n",
    "r=matrix * scalar\n",
    "r"
   ]
  },
  {
   "cell_type": "markdown",
   "id": "d5bb77dc-39f0-4163-b8d8-7fa9bded7989",
   "metadata": {},
   "source": [
    "## EXERCISE 3 - Identity Matrix\n",
    "Create an identity matrix of dimension 4-by-4\n"
   ]
  },
  {
   "cell_type": "code",
   "execution_count": 5,
   "id": "9aedc118-bc40-44a1-94b3-86bd40357269",
   "metadata": {},
   "outputs": [
    {
     "data": {
      "text/plain": [
       "array([[1., 0., 0., 0.],\n",
       "       [0., 1., 0., 0.],\n",
       "       [0., 0., 1., 0.],\n",
       "       [0., 0., 0., 1.]])"
      ]
     },
     "execution_count": 5,
     "metadata": {},
     "output_type": "execute_result"
    }
   ],
   "source": [
    "Identity_Matrix = np.eye(4)\n",
    "Identity_Matrix"
   ]
  },
  {
   "cell_type": "markdown",
   "id": "c5adadf4-15b3-4ec8-9800-53fc6c43c837",
   "metadata": {},
   "source": [
    "## EXERCISE 4 - Array re-dimensioning\n",
    "Convert a 1-D array to a 3-D array"
   ]
  },
  {
   "cell_type": "code",
   "execution_count": 9,
   "id": "6b9a04b1-02ae-4595-9014-265bcad3179f",
   "metadata": {},
   "outputs": [
    {
     "data": {
      "text/plain": [
       "array([[[1, 2, 3]],\n",
       "\n",
       "       [[4, 5, 6]]])"
      ]
     },
     "execution_count": 9,
     "metadata": {},
     "output_type": "execute_result"
    }
   ],
   "source": [
    "array = np.array([1,2,3,4,5,6])\n",
    "reshaped_array = array.reshape((2,1,3))\n",
    "reshaped_array"
   ]
  },
  {
   "cell_type": "markdown",
   "id": "435f5b2f-e1a1-40c1-8a9b-3be73fd58401",
   "metadata": {},
   "source": [
    "## EXERCISE 5 - Array datatype conversion\n",
    "Convert all the elements of a numpy array from float to integer datatype\n"
   ]
  },
  {
   "cell_type": "code",
   "execution_count": 12,
   "id": "66b0a780-da24-4594-97e2-1f23126422ba",
   "metadata": {},
   "outputs": [
    {
     "data": {
      "text/plain": [
       "array([1, 2, 3, 4])"
      ]
     },
     "execution_count": 12,
     "metadata": {},
     "output_type": "execute_result"
    }
   ],
   "source": [
    "array_float = np.array([1.1, 2.2, 3.3, 4.4])\n",
    "array_int = array_float.astype(int)\n",
    "array_int"
   ]
  },
  {
   "cell_type": "markdown",
   "id": "a3da840a-a50c-44d4-a2a7-e4b6f61f43f1",
   "metadata": {},
   "source": [
    "## EXERCISE 6 - Obtaining Boolean Array from Binary Array\n",
    "Convert a binary numpy array (containing only 0s and 1s) to a boolean numpy array"
   ]
  },
  {
   "cell_type": "code",
   "execution_count": 13,
   "id": "f4156de5-6667-42c1-b4b3-b6269488a15c",
   "metadata": {},
   "outputs": [
    {
     "data": {
      "text/plain": [
       "array([False,  True, False,  True])"
      ]
     },
     "execution_count": 13,
     "metadata": {},
     "output_type": "execute_result"
    }
   ],
   "source": [
    "binary_array = np.array([0, 1, 0, 1])\n",
    "boolean_array = binary_array.astype(bool)\n",
    "boolean_array"
   ]
  },
  {
   "cell_type": "markdown",
   "id": "be852fbf-a735-4b31-b263-ac1693034c6c",
   "metadata": {},
   "source": [
    "## EXERCISE 7 - Horizontal Stacking of Numpy Arrays\n",
    "Stack 2 numpy arrays horizontally i.e., 2 arrays having the same 1st dimension (number of rows in\n",
    "2D arrays)"
   ]
  },
  {
   "cell_type": "code",
   "execution_count": 15,
   "id": "291ff102-b2a1-432a-a80b-5ad76a97a799",
   "metadata": {},
   "outputs": [
    {
     "data": {
      "text/plain": [
       "array([[1, 2, 5, 6],\n",
       "       [3, 4, 7, 8]])"
      ]
     },
     "execution_count": 15,
     "metadata": {},
     "output_type": "execute_result"
    }
   ],
   "source": [
    "array1 = np.array([[1, 2], [3, 4]])\n",
    "array2 = np.array([[5, 6], [7, 8]])\n",
    "\n",
    "r = np.hstack((array1, array2))\n",
    "r"
   ]
  },
  {
   "cell_type": "markdown",
   "id": "a8885606-1cab-4004-9e22-f56604ed7dba",
   "metadata": {},
   "source": [
    "## EXERCISE 8 - Vertically Stacking of Numpy Arrays\n",
    "Stack 2 numpy arrays vertically i.e., 2 arrays having the same last dimension (number of columns in\n",
    "2D arrays)"
   ]
  },
  {
   "cell_type": "code",
   "execution_count": 16,
   "id": "6442d522-0416-49e6-8718-3b8cb97ff78e",
   "metadata": {},
   "outputs": [
    {
     "data": {
      "text/plain": [
       "array([[1, 2],\n",
       "       [3, 4],\n",
       "       [5, 6],\n",
       "       [7, 8]])"
      ]
     },
     "execution_count": 16,
     "metadata": {},
     "output_type": "execute_result"
    }
   ],
   "source": [
    "array1 = np.array([[1, 2], [3, 4]])\n",
    "array2 = np.array([[5, 6], [7, 8]])\n",
    "\n",
    "r = np.vstack((array1, array2))\n",
    "r"
   ]
  },
  {
   "cell_type": "markdown",
   "id": "68b82b40-ca15-4a2c-8c99-49493da5f0db",
   "metadata": {},
   "source": [
    "## EXERCISE 9 - Custom Sequence Generation\n",
    "Generate a sequence of numbers in the form of a numpy array from 0 to 100 with gaps of 2\n",
    "numbers, for example: 0, 2, 4 ...."
   ]
  },
  {
   "cell_type": "code",
   "execution_count": 18,
   "id": "a8780fd0-56f9-43eb-b629-cf36b098b007",
   "metadata": {},
   "outputs": [
    {
     "data": {
      "text/plain": [
       "array([  0,   2,   4,   6,   8,  10,  12,  14,  16,  18,  20,  22,  24,\n",
       "        26,  28,  30,  32,  34,  36,  38,  40,  42,  44,  46,  48,  50,\n",
       "        52,  54,  56,  58,  60,  62,  64,  66,  68,  70,  72,  74,  76,\n",
       "        78,  80,  82,  84,  86,  88,  90,  92,  94,  96,  98, 100])"
      ]
     },
     "execution_count": 18,
     "metadata": {},
     "output_type": "execute_result"
    }
   ],
   "source": [
    "Sequence = np.arange(0,101,2)\n",
    "Sequence"
   ]
  },
  {
   "cell_type": "markdown",
   "id": "64bcae10-3544-438d-947d-11b6a1ce7779",
   "metadata": {},
   "source": [
    "## EXERCISE 10 - Getting the positions (indexes) where elements of 2\n",
    "numpy arrays match\n",
    "From 2 numpy arrays, extract the indexes in which the elements in the 2 arrays match"
   ]
  },
  {
   "cell_type": "code",
   "execution_count": 19,
   "id": "ca0b420e-780b-4078-b02d-0d2139cc8bcf",
   "metadata": {},
   "outputs": [
    {
     "data": {
      "text/plain": [
       "(array([2], dtype=int64),)"
      ]
     },
     "execution_count": 19,
     "metadata": {},
     "output_type": "execute_result"
    }
   ],
   "source": [
    "array1 = np.array([1, 2, 3, 4, 5])\n",
    "array2 = np.array([5, 4, 3, 2, 1])\n",
    "\n",
    "indices = np.where(array1==array2)\n",
    "indices"
   ]
  },
  {
   "cell_type": "markdown",
   "id": "f20f4817-c7af-42e4-8f14-4edf2e38d0ce",
   "metadata": {},
   "source": [
    "## EXERCISE 11 - Generation of given count of equally spaced\n",
    "numbers within a specified range\n",
    "Output a sequence of equally gapped 5 numbers in the range 0 to 100 (both inclusive)"
   ]
  },
  {
   "cell_type": "code",
   "execution_count": 20,
   "id": "bc477937-d012-4374-8a65-bf12303a414c",
   "metadata": {},
   "outputs": [
    {
     "name": "stdout",
     "output_type": "stream",
     "text": [
      "[  0.  25.  50.  75. 100.]\n"
     ]
    }
   ],
   "source": [
    "numbers = np.linspace(0, 100, 5)\n",
    "print(numbers)"
   ]
  },
  {
   "cell_type": "markdown",
   "id": "38d57808-8f96-4108-aeb8-f45d74e5cf58",
   "metadata": {},
   "source": [
    "## EXERCISE 12 - Matrix Generation with one particular value\n",
    "Output a matrix (numpy array) of dimension 2-by-3 with each and every value equal to 5"
   ]
  },
  {
   "cell_type": "code",
   "execution_count": 21,
   "id": "3a54c1f6-b912-49e1-a564-cf329b91199a",
   "metadata": {},
   "outputs": [
    {
     "data": {
      "text/plain": [
       "array([[5, 5, 5],\n",
       "       [5, 5, 5]])"
      ]
     },
     "execution_count": 21,
     "metadata": {},
     "output_type": "execute_result"
    }
   ],
   "source": [
    "matrix = np.full((2,3),5)\n",
    "matrix"
   ]
  },
  {
   "cell_type": "markdown",
   "id": "3f36ef41-a752-4992-86fe-b4bda4fa80ca",
   "metadata": {},
   "source": [
    "## EXERCISE 13 - Array Generation by repeatition of a small array\n",
    "across each dimension\n",
    "Output an array by repeating a smaller array of 2 dimensions, 10 times "
   ]
  },
  {
   "cell_type": "code",
   "execution_count": 22,
   "id": "73aac4e8-6e84-46af-bf9c-f0a1098565c3",
   "metadata": {},
   "outputs": [
    {
     "data": {
      "text/plain": [
       "array([[[1, 2],\n",
       "        [3, 4]],\n",
       "\n",
       "       [[1, 2],\n",
       "        [3, 4]],\n",
       "\n",
       "       [[1, 2],\n",
       "        [3, 4]],\n",
       "\n",
       "       [[1, 2],\n",
       "        [3, 4]],\n",
       "\n",
       "       [[1, 2],\n",
       "        [3, 4]],\n",
       "\n",
       "       [[1, 2],\n",
       "        [3, 4]],\n",
       "\n",
       "       [[1, 2],\n",
       "        [3, 4]],\n",
       "\n",
       "       [[1, 2],\n",
       "        [3, 4]],\n",
       "\n",
       "       [[1, 2],\n",
       "        [3, 4]],\n",
       "\n",
       "       [[1, 2],\n",
       "        [3, 4]]])"
      ]
     },
     "execution_count": 22,
     "metadata": {},
     "output_type": "execute_result"
    }
   ],
   "source": [
    "small_array = np.array([[1,2],[3,4]])\n",
    "repeated_array = np.tile(small_array,(10,1,1))\n",
    "repeated_array"
   ]
  },
  {
   "cell_type": "markdown",
   "id": "70913dc3-c55e-45bf-a9a9-56a1d2313cd7",
   "metadata": {},
   "source": [
    "## EXERCISE 14 - Array Generation of random integers within a\n",
    "specified range\n",
    "Output a 5-by-5 array of random integers between 0 (inclusive) and 10 (exclusive)\n"
   ]
  },
  {
   "cell_type": "code",
   "execution_count": 31,
   "id": "b6978070-a503-4c06-8eab-748f61355f5a",
   "metadata": {},
   "outputs": [
    {
     "data": {
      "text/plain": [
       "array([[3, 6, 4, 5, 8],\n",
       "       [4, 4, 6, 7, 9],\n",
       "       [0, 9, 2, 2, 5],\n",
       "       [7, 3, 9, 1, 1],\n",
       "       [3, 9, 0, 0, 9]])"
      ]
     },
     "execution_count": 31,
     "metadata": {},
     "output_type": "execute_result"
    }
   ],
   "source": [
    "random_array =  np.random.randint(0,10,size=(5,5))\n",
    "random_array"
   ]
  },
  {
   "cell_type": "markdown",
   "id": "38f912b0-560c-4908-9d50-a1994dfd8bff",
   "metadata": {},
   "source": [
    "## EXERCISE 15 - Array Generation of random numbers following\n",
    "normal distribution\n",
    "Output a 3-by-3 array of random numbers following normal distribution\n"
   ]
  },
  {
   "cell_type": "code",
   "execution_count": 32,
   "id": "96826399-82ab-4ad9-a416-cb05e73e9b3d",
   "metadata": {},
   "outputs": [
    {
     "data": {
      "text/plain": [
       "array([[-1.26470251,  0.97158099, -0.26844818],\n",
       "       [-1.12100666,  1.19615253, -1.53822536],\n",
       "       [-0.62823957, -0.05325755, -0.54406998]])"
      ]
     },
     "execution_count": 32,
     "metadata": {},
     "output_type": "execute_result"
    }
   ],
   "source": [
    "random_array =  np.random.normal(size=(3,3))\n",
    "random_array"
   ]
  },
  {
   "cell_type": "markdown",
   "id": "30c4e63a-d2c4-444f-8df5-01ce4bd160d7",
   "metadata": {},
   "source": [
    "## EXERCISE 16 - Matrix Multiplication\n",
    "Given 2 numpy arrays as matrices, output the result of multiplying the 2 matrices (as a numpy\n",
    "array)\n"
   ]
  },
  {
   "cell_type": "code",
   "execution_count": 35,
   "id": "5ca5489a-5dbc-44d6-8234-56d7b15a2d74",
   "metadata": {},
   "outputs": [
    {
     "data": {
      "text/plain": [
       "array([[19, 22],\n",
       "       [43, 50]])"
      ]
     },
     "execution_count": 35,
     "metadata": {},
     "output_type": "execute_result"
    }
   ],
   "source": [
    "matrix1 = np.array([[1, 2], [3, 4]]) # (mXn).(nXp) =mXp, n=n\n",
    "matrix2 = np.array([[5, 6], [7, 8]])\n",
    "\n",
    "result = np.dot(matrix1,matrix2)\n",
    "result"
   ]
  },
  {
   "cell_type": "markdown",
   "id": "17c3ca7d-37d2-422a-b46a-ed31ba76d39f",
   "metadata": {},
   "source": [
    "## EXERCISE 17 - Matrix Transpose\n",
    "Output the transpose of a matrix (as numpy array)"
   ]
  },
  {
   "cell_type": "code",
   "execution_count": 37,
   "id": "fd92b5ba-044e-44f3-aec4-240a2860d582",
   "metadata": {},
   "outputs": [
    {
     "data": {
      "text/plain": [
       "array([[1, 3, 5],\n",
       "       [2, 4, 6]])"
      ]
     },
     "execution_count": 37,
     "metadata": {},
     "output_type": "execute_result"
    }
   ],
   "source": [
    "matrix = np.array([[1,2],[3,4],[5,6]])\n",
    "matrix.T"
   ]
  },
  {
   "cell_type": "markdown",
   "id": "9981bd16-1e75-4677-9ddf-22ab3259cf70",
   "metadata": {},
   "source": [
    "## EXERCISE 18 - Sine of an Angle (in radians)\n",
    "Calculate the sine of an array of angles (in radians) using NumPy"
   ]
  },
  {
   "cell_type": "code",
   "execution_count": 43,
   "id": "11cce46e-96c5-45b7-bd4e-619e3d4bfd3e",
   "metadata": {},
   "outputs": [
    {
     "name": "stdout",
     "output_type": "stream",
     "text": [
      "[0.0000000e+00 1.0000000e+00 1.2246468e-16]\n"
     ]
    }
   ],
   "source": [
    "angles = np.array([0, np.pi / 2, np.pi])\n",
    "sine_values = np.sin(angles)\n",
    "print(sine_values)"
   ]
  },
  {
   "cell_type": "markdown",
   "id": "9eabb319-93a0-4be7-a8d3-4483576b4c6e",
   "metadata": {},
   "source": [
    "## EXERCISE 19 - Cosine Similarity\n",
    "Calculate the cosine similarity of 2 vectors (as numpy arrays)"
   ]
  },
  {
   "cell_type": "code",
   "execution_count": 47,
   "id": "ab683ff9-8fb0-4ae3-a181-7ffc89871436",
   "metadata": {},
   "outputs": [
    {
     "data": {
      "text/plain": [
       "0.9746318461970762"
      ]
     },
     "execution_count": 47,
     "metadata": {},
     "output_type": "execute_result"
    }
   ],
   "source": [
    "import numpy as np\n",
    "\n",
    "vector1 = np.array([1, 2, 3])\n",
    "vector2 = np.array([4, 5, 6])\n",
    "\n",
    "cosine_similarity = np.dot(vector1,vector2)/(np.linalg.norm(vector1) * np.linalg.norm(vector2))\n",
    "cosine_similarity"
   ]
  },
  {
   "cell_type": "markdown",
   "id": "b2cbb640-faf4-46ec-a6ce-0252bed371a5",
   "metadata": {},
   "source": [
    "## EXERCISE 20 - Generating the array element indexes such that\n",
    "the array elements appear in ascending order "
   ]
  },
  {
   "cell_type": "code",
   "execution_count": 48,
   "id": "25324e77-9c10-440f-839f-a4e1efd26c3d",
   "metadata": {},
   "outputs": [
    {
     "data": {
      "text/plain": [
       "array([1, 2, 0], dtype=int64)"
      ]
     },
     "execution_count": 48,
     "metadata": {},
     "output_type": "execute_result"
    }
   ],
   "source": [
    "array = np.array([3, 1, 2])\n",
    "sorted_indexes = np.argsort(array)\n",
    "sorted_indexes"
   ]
  },
  {
   "cell_type": "markdown",
   "id": "ed785003-4dd4-4b8c-9788-5fbe5e0cbbb3",
   "metadata": {},
   "source": [
    "## NUMPY EXERCISES TO BE DONE IN RECORDS"
   ]
  },
  {
   "cell_type": "markdown",
   "id": "65139698-14c9-4ba2-8a57-79636a68b983",
   "metadata": {},
   "source": []
  },
  {
   "cell_type": "markdown",
   "id": "39da225e-d6d6-489e-a0f0-f5acfc42b3e4",
   "metadata": {},
   "source": [
    "##  Exercise 1. Import numpy as np and see the version"
   ]
  },
  {
   "cell_type": "code",
   "execution_count": 2,
   "id": "4b9dcb39-0f7c-4578-ac32-4ab5aee74728",
   "metadata": {},
   "outputs": [
    {
     "data": {
      "text/plain": [
       "'1.24.2'"
      ]
     },
     "execution_count": 2,
     "metadata": {},
     "output_type": "execute_result"
    }
   ],
   "source": [
    "import numpy as np\n",
    "np.__version__"
   ]
  },
  {
   "cell_type": "markdown",
   "id": "9c44ad05-722d-47eb-a003-0a4bea64a138",
   "metadata": {},
   "source": [
    "##  Exercise 2. How to create a 1D array?"
   ]
  },
  {
   "cell_type": "code",
   "execution_count": 4,
   "id": "678529ff-ccf6-4ce5-b628-0feef75249f6",
   "metadata": {},
   "outputs": [
    {
     "data": {
      "text/plain": [
       "array([1, 2, 3, 4, 5])"
      ]
     },
     "execution_count": 4,
     "metadata": {},
     "output_type": "execute_result"
    }
   ],
   "source": [
    "a = np.array([1,2,3,4,5])\n",
    "a\n",
    "# X = np.arange(10)\n",
    "# X"
   ]
  },
  {
   "cell_type": "markdown",
   "id": "b3b193bd-6247-481a-a9ab-93743f1a8951",
   "metadata": {},
   "source": [
    "##  Exercise 3. How to create a boolean array?"
   ]
  },
  {
   "cell_type": "code",
   "execution_count": 13,
   "id": "5b38cd19-5962-4f45-8df8-b6504b745e4d",
   "metadata": {},
   "outputs": [
    {
     "data": {
      "text/plain": [
       "array([[ True,  True,  True],\n",
       "       [ True,  True,  True],\n",
       "       [ True,  True,  True]])"
      ]
     },
     "execution_count": 13,
     "metadata": {},
     "output_type": "execute_result"
    }
   ],
   "source": [
    "# np.full((3,3),True,dtype=bool)\n",
    "# np.full((3,3),False,dtype=bool)\n",
    "# np.full((9),True,dtype=bool).reshape(3,3)\n",
    "# np.ones((3,4),dtype=bool)\n",
    "# np.zeros((3,4),dtype=bool)\n",
    "np.ones((9),dtype=bool).reshape(3,3)"
   ]
  },
  {
   "cell_type": "markdown",
   "id": "77d04c65-ffbc-4f14-9a33-9e1521009745",
   "metadata": {},
   "source": [
    "##  Exercise 4. How to extract items that satisfy a given\n",
    "condition from 1D array?"
   ]
  },
  {
   "cell_type": "code",
   "execution_count": 16,
   "id": "69cd1566-5229-4bda-97f5-7d6d3a70a2d8",
   "metadata": {},
   "outputs": [
    {
     "data": {
      "text/plain": [
       "array([0, 2, 4, 6, 8])"
      ]
     },
     "execution_count": 16,
     "metadata": {},
     "output_type": "execute_result"
    }
   ],
   "source": [
    "arr = np.arange(10)\n",
    "arr[arr%2 ==0]"
   ]
  },
  {
   "cell_type": "markdown",
   "id": "70082f79-e1a6-4c0a-8f34-40300aff05d1",
   "metadata": {},
   "source": [
    "##  Exercise 5. How to replace items that satisfy a condition with\n",
    "another value in numpy array?"
   ]
  },
  {
   "cell_type": "code",
   "execution_count": 17,
   "id": "b9d5625b-7ea4-4354-b43d-17d42fb86af1",
   "metadata": {},
   "outputs": [
    {
     "name": "stdout",
     "output_type": "stream",
     "text": [
      "[0 1 2 3 4 5 6 7 8 9]\n",
      "[0 1 0 3 0 5 0 7 0 9]\n"
     ]
    }
   ],
   "source": [
    "arr = np.arange(10)\n",
    "print(arr)\n",
    "arr[arr%2 ==0] =0\n",
    "print(arr)"
   ]
  },
  {
   "cell_type": "markdown",
   "id": "8305a6e4-8814-4677-aeac-7c2b399a9a26",
   "metadata": {},
   "source": [
    "##  Exercise 6. How to replace items that satisfy a condition without affecting the original array?\r\n"
   ]
  },
  {
   "cell_type": "code",
   "execution_count": 20,
   "id": "6f8e6669-83a5-4c77-b560-390383e3010c",
   "metadata": {},
   "outputs": [
    {
     "name": "stdout",
     "output_type": "stream",
     "text": [
      "[0 1 2 3 4 5 6 7 8 9]\n",
      "[0 1 2 3 4 5 6 7 8 9]\n",
      "[0 1 0 3 0 5 0 7 0 9]\n"
     ]
    }
   ],
   "source": [
    "arr = np.arange(10)\n",
    "print(arr)\n",
    "cpy = arr.copy()\n",
    "cpy[cpy%2 ==0] =0\n",
    "print(arr)\n",
    "print(cpy)"
   ]
  },
  {
   "cell_type": "markdown",
   "id": "2b2fb619-d730-4f12-b1a8-7cb47e2782bc",
   "metadata": {},
   "source": [
    "##  Exercise 7. How to reshape an array?"
   ]
  },
  {
   "cell_type": "code",
   "execution_count": 23,
   "id": "6840b75e-3fe5-4b17-ba92-6bf9ace6daec",
   "metadata": {},
   "outputs": [
    {
     "name": "stdout",
     "output_type": "stream",
     "text": [
      "(10,)\n"
     ]
    },
    {
     "data": {
      "text/plain": [
       "array([[0, 1, 2, 3, 4],\n",
       "       [5, 6, 7, 8, 9]])"
      ]
     },
     "execution_count": 23,
     "metadata": {},
     "output_type": "execute_result"
    }
   ],
   "source": [
    "arr = np.arange(10)\n",
    "print(arr.shape)\n",
    "arr.reshape(2,5)"
   ]
  },
  {
   "cell_type": "markdown",
   "id": "2ee28b20-70f0-4324-8898-438bbd831414",
   "metadata": {},
   "source": [
    "##  Exercise 8. How to stack two arrays vertically?\n"
   ]
  },
  {
   "cell_type": "code",
   "execution_count": 3,
   "id": "fbe9ff83-c984-4832-978b-f43b9f34f772",
   "metadata": {},
   "outputs": [
    {
     "data": {
      "text/plain": [
       "array([[1, 2],\n",
       "       [3, 4],\n",
       "       [5, 6],\n",
       "       [7, 8]])"
      ]
     },
     "execution_count": 3,
     "metadata": {},
     "output_type": "execute_result"
    }
   ],
   "source": [
    "array1 = np.array([[1, 2], [3, 4]])\n",
    "array2 = np.array([[5, 6], [7, 8]])\n",
    "\n",
    "r = np.vstack((array1, array2))\n",
    "r"
   ]
  },
  {
   "cell_type": "markdown",
   "id": "02bdc15b-4147-453f-a743-4494e134ac71",
   "metadata": {},
   "source": [
    "##   Exercise 9. How to stack two arrays horizontally?"
   ]
  },
  {
   "cell_type": "code",
   "execution_count": 4,
   "id": "61e54b00-883e-4c22-80a7-26b89f9248e9",
   "metadata": {},
   "outputs": [
    {
     "data": {
      "text/plain": [
       "array([[1, 2, 5, 6],\n",
       "       [3, 4, 7, 8]])"
      ]
     },
     "execution_count": 4,
     "metadata": {},
     "output_type": "execute_result"
    }
   ],
   "source": [
    "array1 = np.array([[1, 2], [3, 4]])\n",
    "array2 = np.array([[5, 6], [7, 8]])\n",
    "\n",
    "r = np.hstack((array1, array2))\n",
    "r"
   ]
  },
  {
   "cell_type": "markdown",
   "id": "ee911a6e-c859-4cf2-8f9a-48d4414ed3ea",
   "metadata": {},
   "source": [
    "##  Exercise 10. How to generate custom sequences in numpy\n",
    "without hardcoding?\n"
   ]
  },
  {
   "cell_type": "code",
   "execution_count": 9,
   "id": "0fbd285d-284f-470d-9a15-61672f6da725",
   "metadata": {},
   "outputs": [
    {
     "data": {
      "text/plain": [
       "array([1, 1, 1, 2, 2, 2, 3, 3, 3, 1, 2, 3, 1, 2, 3, 1, 2, 3])"
      ]
     },
     "execution_count": 9,
     "metadata": {},
     "output_type": "execute_result"
    }
   ],
   "source": [
    "a = np.array([1,2,3])\n",
    "\n",
    "r = np.hstack((np.repeat(a,3), np.tile(a,3)))\n",
    "r\n",
    "# So, in summary, the code first repeats each element of the input array three times, then tiles the entire array three times, and finally concatenates them horizontally to get the desired output pattern."
   ]
  },
  {
   "cell_type": "markdown",
   "id": "5c68b8a2-5a82-4889-a085-31a2e337384e",
   "metadata": {},
   "source": [
    "##  Exercise 11. How to get the common items between two\n",
    "python numpy arrays?"
   ]
  },
  {
   "cell_type": "code",
   "execution_count": 12,
   "id": "f7725348-6bbf-4e90-a5e2-470d97b4b466",
   "metadata": {},
   "outputs": [
    {
     "name": "stdout",
     "output_type": "stream",
     "text": [
      "[1 3 5 7 9]\n",
      "[ 5  7  9 11 13]\n",
      "[5 7 9]\n"
     ]
    }
   ],
   "source": [
    "a = np.arange(1,10,2)\n",
    "b = np.arange(5,15,2)\n",
    "\n",
    "c = np.intersect1d(a,b)\n",
    "print(a)\n",
    "print(b)\n",
    "print(c)\n",
    "            \n",
    "            "
   ]
  },
  {
   "cell_type": "markdown",
   "id": "b34af527-9b49-4078-8ec2-f131fa51745f",
   "metadata": {},
   "source": [
    "## Exercise 12. How to remove from one array those items that exist in another?"
   ]
  },
  {
   "cell_type": "code",
   "execution_count": 14,
   "id": "4cf8bad4-117c-45e2-8ae9-13935c871323",
   "metadata": {},
   "outputs": [
    {
     "data": {
      "text/plain": [
       "array([1, 2, 3, 4])"
      ]
     },
     "execution_count": 14,
     "metadata": {},
     "output_type": "execute_result"
    }
   ],
   "source": [
    "a = np.array([1,2,3,4,5])\n",
    "b = np.array([5,6,7,8,9])\n",
    "\n",
    "np.setdiff1d(a,b)"
   ]
  },
  {
   "cell_type": "markdown",
   "id": "ee5bceac-17b8-4e84-9c5a-b55d37fb6e18",
   "metadata": {},
   "source": [
    "##  Exercise 13. How to get the positions where elements of two\n",
    "arrays match?\n"
   ]
  },
  {
   "cell_type": "code",
   "execution_count": 16,
   "id": "bcd5e2b9-9e35-420f-bdad-8e68fcd88906",
   "metadata": {},
   "outputs": [
    {
     "data": {
      "text/plain": [
       "(array([0, 1, 2, 3, 4], dtype=int64),)"
      ]
     },
     "execution_count": 16,
     "metadata": {},
     "output_type": "execute_result"
    }
   ],
   "source": [
    "a = np.array([1,2,3,4,5])\n",
    "b = np.array([1,2,3,4,5])\n",
    "\n",
    "np.where(a==b)"
   ]
  },
  {
   "cell_type": "markdown",
   "id": "5dc5176a-443d-424f-985e-c0f70b38e3b9",
   "metadata": {},
   "source": [
    "##  Exercise 14. How to extract all numbers between a given\n",
    "range from a numpy array?"
   ]
  },
  {
   "cell_type": "code",
   "execution_count": 17,
   "id": "d77e2c01-c9ae-4496-9c32-36a1e90c0e4d",
   "metadata": {},
   "outputs": [
    {
     "data": {
      "text/plain": [
       "array([6, 9])"
      ]
     },
     "execution_count": 17,
     "metadata": {},
     "output_type": "execute_result"
    }
   ],
   "source": [
    "a = np.array([2, 6, 1, 9, 10, 3, 27])\n",
    "a[(a>5) & (a<10)]"
   ]
  },
  {
   "cell_type": "markdown",
   "id": "b4db9ce5-ee81-4d6a-bab5-951858a16a45",
   "metadata": {},
   "source": [
    "##  Exercise 15. How to make a python function that handles\n",
    "scalars to work on numpy arrays?"
   ]
  },
  {
   "cell_type": "code",
   "execution_count": 6,
   "id": "7898d783-4aea-4003-803f-3289a72af503",
   "metadata": {},
   "outputs": [
    {
     "data": {
      "text/plain": [
       "array([6, 7, 9, 8, 9, 7, 5])"
      ]
     },
     "execution_count": 6,
     "metadata": {},
     "output_type": "execute_result"
    }
   ],
   "source": [
    "def maxx(x,y):\n",
    "    \"\"\"Get the maximum of two items\"\"\"\n",
    "    if x >= y:\n",
    "        return x\n",
    "    else:\n",
    "        return y\n",
    "\n",
    "# def pair_max(x,y):\n",
    "#         # here I am using map to make tuple from a and b, other solution is using zip(a,b)\n",
    "#         maximum = [maxx(a,b) for a,b in map(lambda a,b:(a,b),x,y)]\n",
    "#         # using zip\n",
    "#         # maximum = [maxx(a,b) for a,b in zip(x,y)]\n",
    "#         return np.array(maximum)\n",
    "\n",
    "def pair_max(x, y):\n",
    "    # using zip to make pairs from x and y\n",
    "    maximum = [max(a, b) for a, b in zip(x, y)]\n",
    "    return np.array(maximum)\n",
    "\n",
    "\n",
    "a = np.array([5, 7, 9, 8, 6, 4, 5])\n",
    "b = np.array([6, 3, 4, 8, 9, 7, 1])\n",
    "\n",
    "pair_max(a,b) "
   ]
  },
  {
   "cell_type": "markdown",
   "id": "00779bb2-7c17-4865-8bd9-f051b9c9b301",
   "metadata": {},
   "source": [
    "##  Exercise 16. How to swap two columns in a 2d numpy array?"
   ]
  },
  {
   "cell_type": "code",
   "execution_count": 7,
   "id": "c04b6c10-509e-4e71-a850-156bcb0d9777",
   "metadata": {},
   "outputs": [
    {
     "name": "stdout",
     "output_type": "stream",
     "text": [
      "Original array\n",
      "[[0 1 2]\n",
      " [3 4 5]\n",
      " [6 7 8]]\n",
      "\n",
      "Modified array\n",
      "[[1 0 2]\n",
      " [4 3 5]\n",
      " [7 6 8]]\n"
     ]
    }
   ],
   "source": [
    "# Input: Create a 3x3 array with values from 0 to 8\n",
    "arr = np.arange(9).reshape(3,3)\n",
    "\n",
    "# Print the original array\n",
    "print('Original array')\n",
    "print(arr)\n",
    "\n",
    "# Swap columns 1 and 2\n",
    "arr = arr[:,[1,0,2]]\n",
    "\n",
    "# Print the modified array\n",
    "print(\"\\nModified array\")\n",
    "print(arr)"
   ]
  },
  {
   "cell_type": "markdown",
   "id": "7031ad1e-2728-4992-a965-aa1ee3e4760b",
   "metadata": {},
   "source": [
    "##  Exercise 17. How to swap two rows in a 2d numpy array?"
   ]
  },
  {
   "cell_type": "code",
   "execution_count": 9,
   "id": "869f148d-850a-4913-935c-23ebfad7eb85",
   "metadata": {},
   "outputs": [
    {
     "name": "stdout",
     "output_type": "stream",
     "text": [
      "Original array\n",
      "[[0 1 2]\n",
      " [3 4 5]\n",
      " [6 7 8]]\n",
      "\n",
      "Modified array\n"
     ]
    },
    {
     "data": {
      "text/plain": [
       "array([[3, 4, 5],\n",
       "       [0, 1, 2],\n",
       "       [6, 7, 8]])"
      ]
     },
     "execution_count": 9,
     "metadata": {},
     "output_type": "execute_result"
    }
   ],
   "source": [
    "# Question: Swap rows 1 and 2 in the array arr:\n",
    "\n",
    "# Input: \n",
    "\n",
    "arr = np.arange(9).reshape(3,3)\n",
    "print('Original array')\n",
    "print(arr)\n",
    "\n",
    "# Solution\n",
    "\n",
    "print(\"\\nModified array\")\n",
    "arr[[1,0,2], :]"
   ]
  },
  {
   "cell_type": "markdown",
   "id": "a0243d2c-6745-46cc-a5b8-ad28ece91f29",
   "metadata": {},
   "source": [
    "##  Exercise 18. How to reverse the rows of a 2D array?"
   ]
  },
  {
   "cell_type": "code",
   "execution_count": 11,
   "id": "6680cce8-759a-4630-94e0-de3e2fe7e0ec",
   "metadata": {},
   "outputs": [
    {
     "name": "stdout",
     "output_type": "stream",
     "text": [
      "Original array\n",
      "[[0 1 2]\n",
      " [3 4 5]\n",
      " [6 7 8]]\n",
      "\n",
      "Modified array\n"
     ]
    },
    {
     "data": {
      "text/plain": [
       "array([[6, 7, 8],\n",
       "       [3, 4, 5],\n",
       "       [0, 1, 2]])"
      ]
     },
     "execution_count": 11,
     "metadata": {},
     "output_type": "execute_result"
    }
   ],
   "source": [
    "# Question: Reverse the rows of a 2D array arr.\n",
    "\n",
    "# Input:\n",
    "\n",
    "arr = np.arange(9).reshape(3,3)\n",
    "\n",
    "print('Original array')\n",
    "print(arr)\n",
    "\n",
    "# Solution\n",
    "print(\"\\nModified array\")\n",
    "arr[::-1, :]"
   ]
  },
  {
   "cell_type": "markdown",
   "id": "e18dd9a8-5a73-4148-b137-aa88a0af558e",
   "metadata": {},
   "source": [
    "##  Exercise 19. How to reverse the columns of a 2D array?"
   ]
  },
  {
   "cell_type": "code",
   "execution_count": 13,
   "id": "d95bc619-7546-4dae-8234-0bc6a72a87f4",
   "metadata": {},
   "outputs": [
    {
     "name": "stdout",
     "output_type": "stream",
     "text": [
      "Original array\n",
      "[[0 1 2]\n",
      " [3 4 5]\n",
      " [6 7 8]]\n",
      "\n",
      "Modified array\n"
     ]
    },
    {
     "data": {
      "text/plain": [
       "array([[2, 1, 0],\n",
       "       [5, 4, 3],\n",
       "       [8, 7, 6]])"
      ]
     },
     "execution_count": 13,
     "metadata": {},
     "output_type": "execute_result"
    }
   ],
   "source": [
    "# Question: Reverse the columns of a 2D array arr.\n",
    "\n",
    "# Input: arr = np.arange(9).reshape(3,3)\n",
    "\n",
    "# Solution\n",
    "\n",
    "arr = np.arange(9).reshape(3,3)\n",
    "print('Original array')\n",
    "print(arr)\n",
    "\n",
    "\n",
    "\n",
    "print(\"\\nModified array\")\n",
    "arr[:, ::-1]"
   ]
  },
  {
   "cell_type": "markdown",
   "id": "3722c9d9-72e9-4f34-bee1-84f4f9971a81",
   "metadata": {},
   "source": [
    "##  Exercise 20. How to create a 2D array containing random\n",
    "floats between 5 and 10?¶"
   ]
  },
  {
   "cell_type": "code",
   "execution_count": 16,
   "id": "148db645-290d-40ae-b9f8-84243fd2d607",
   "metadata": {},
   "outputs": [
    {
     "data": {
      "text/plain": [
       "array([[7.90107969, 5.90361449, 7.46667904],\n",
       "       [9.0138332 , 5.53359284, 6.13447283],\n",
       "       [7.23777657, 5.34109859, 5.88765599],\n",
       "       [9.92657846, 5.66904927, 9.19084599],\n",
       "       [9.48825847, 6.62072069, 7.43724684]])"
      ]
     },
     "execution_count": 16,
     "metadata": {},
     "output_type": "execute_result"
    }
   ],
   "source": [
    "r = np.random.uniform(5,10, size=(5,3))\n",
    "r"
   ]
  },
  {
   "cell_type": "markdown",
   "id": "59ccaae7-68fe-4837-84b6-d7b0a979587d",
   "metadata": {},
   "source": [
    "##  Exercise 21. How to print only 3 decimal places in python\n",
    "numpy array?"
   ]
  },
  {
   "cell_type": "code",
   "execution_count": 6,
   "id": "5dd3ec1f-888c-40db-be83-1adea1f75218",
   "metadata": {},
   "outputs": [
    {
     "name": "stdout",
     "output_type": "stream",
     "text": [
      "Original array\n",
      "[[0.44768501 0.2867666  0.23262869]\n",
      " [0.74524611 0.61863465 0.3804391 ]\n",
      " [0.20430443 0.74256616 0.6406213 ]\n",
      " [0.33358002 0.93842112 0.8029164 ]\n",
      " [0.83183266 0.1288524  0.33880475]]\n",
      "\n",
      "Modified array\n",
      "[[0.448 0.287 0.233]\n",
      " [0.745 0.619 0.38 ]\n",
      " [0.204 0.743 0.641]\n",
      " [0.334 0.938 0.803]\n",
      " [0.832 0.129 0.339]]\n"
     ]
    }
   ],
   "source": [
    "rand_arr = np.random.random((5,3))\n",
    "print('Original array')\n",
    "print(rand_arr)\n",
    "\n",
    "print(\"\\nModified array\")\n",
    "np.set_printoptions(precision=3)\n",
    "print(rand_arr)"
   ]
  },
  {
   "cell_type": "markdown",
   "id": "8ed49861-3307-4933-82ca-ef354861f960",
   "metadata": {},
   "source": [
    "##  Exercise 22. How to pretty print a numpy array by\n",
    "suppressing the scientific notation (like 1e10)?"
   ]
  },
  {
   "cell_type": "code",
   "execution_count": 8,
   "id": "d75226b2-2e27-4f3c-91e4-1c758cf0deaa",
   "metadata": {},
   "outputs": [
    {
     "data": {
      "text/plain": [
       "array([[0.001, 0.001, 0.   ],\n",
       "       [0.   , 0.   , 0.   ],\n",
       "       [0.001, 0.001, 0.   ]])"
      ]
     },
     "execution_count": 8,
     "metadata": {},
     "output_type": "execute_result"
    }
   ],
   "source": [
    "# a = np.random.seed(100)\n",
    "np.random.seed(100)\n",
    "rand_arr = np.random.random([3,3])/1e3\n",
    "np.set_printoptions(suppress=False)\n",
    "rand_arr"
   ]
  },
  {
   "cell_type": "markdown",
   "id": "fc51e818-dcdd-4d8a-9581-2ec5f85d74dc",
   "metadata": {},
   "source": [
    "##  Exercise 23. How to limit the number of items printed in\n",
    "output of numpy array?"
   ]
  },
  {
   "cell_type": "code",
   "execution_count": 3,
   "id": "4ca3c30f-ded4-4f84-babf-e03a4a8c9c8f",
   "metadata": {},
   "outputs": [
    {
     "data": {
      "text/plain": [
       "array([ 0,  1,  2, ..., 12, 13, 14])"
      ]
     },
     "execution_count": 3,
     "metadata": {},
     "output_type": "execute_result"
    }
   ],
   "source": [
    "a = np.arange(15)\n",
    "np.set_printoptions(threshold=6)\n",
    "a"
   ]
  },
  {
   "cell_type": "markdown",
   "id": "7a0263ec-6bea-4f05-ae68-1ebb582aaaaf",
   "metadata": {},
   "source": [
    "##  Exercise 24. How to print the full numpy array without\n",
    "truncating"
   ]
  },
  {
   "cell_type": "code",
   "execution_count": 4,
   "id": "58c578aa-5698-4c23-84b4-59ee95ada325",
   "metadata": {},
   "outputs": [
    {
     "data": {
      "text/plain": [
       "array([ 0,  1,  2,  3,  4,  5,  6,  7,  8,  9, 10, 11, 12, 13, 14])"
      ]
     },
     "execution_count": 4,
     "metadata": {},
     "output_type": "execute_result"
    }
   ],
   "source": [
    "a = np.arange(15)\n",
    "\n",
    "np.set_printoptions(threshold=15)# threshold = arange\n",
    "a"
   ]
  },
  {
   "cell_type": "markdown",
   "id": "f80ab6a2-4a0a-486c-a104-cfac0622afeb",
   "metadata": {},
   "source": [
    "##  Exercise 25. How to import a dataset with numbers and\n",
    "texts keeping the text intact in python numpy?"
   ]
  },
  {
   "cell_type": "code",
   "execution_count": 8,
   "id": "af56cfa1-5302-41ae-ace3-78da612e7824",
   "metadata": {},
   "outputs": [
    {
     "data": {
      "text/plain": [
       "array([[b'Douglas', b'Male', b'8/6/1993', b'12:42 PM', b'97308',\n",
       "        b'6.945'],\n",
       "       [b'Thomas', b'Male', b'3/31/1996', b'6:53 AM', b'61933', b'4.17'],\n",
       "       [b'Maria', b'Female', b'4/23/1993', b'11:17 AM', b'130590',\n",
       "        b'11.858'],\n",
       "       ...,\n",
       "       [b'Russell', b'Male', b'5/20/2013', b'12:39 PM', b'96914',\n",
       "        b'1.421'],\n",
       "       [b'Larry', b'Male', b'4/20/2013', b'4:45 PM', b'60500', b'11.985'],\n",
       "       [b'Albert', b'Male', b'5/15/2012', b'6:24 PM', b'129949',\n",
       "        b'10.169']], dtype=object)"
      ]
     },
     "execution_count": 8,
     "metadata": {},
     "output_type": "execute_result"
    }
   ],
   "source": [
    "iris_data = np.genfromtxt('C:/Users/KIIT/Downloads/employees.csv', delimiter=',', skip_header=1, \n",
    "                          usecols = [0,1,2,3,4,5], dtype = object)\n",
    "iris_data"
   ]
  },
  {
   "cell_type": "markdown",
   "id": "ab40018b-6d38-413d-8208-c30c51c5bfdb",
   "metadata": {},
   "source": [
    "##  Exercise 26. How to extract a particular column from 1D\n",
    "array of tuples?"
   ]
  },
  {
   "cell_type": "code",
   "execution_count": 11,
   "id": "b07274b5-f4bb-4110-a5fc-703a63403121",
   "metadata": {},
   "outputs": [
    {
     "data": {
      "text/plain": [
       "array([b'Douglas', b'Thomas', b'Maria', ..., b'Russell', b'Larry',\n",
       "       b'Albert'], dtype=object)"
      ]
     },
     "execution_count": 11,
     "metadata": {},
     "output_type": "execute_result"
    }
   ],
   "source": [
    "iris_data = np.genfromtxt('C:/Users/KIIT/Downloads/employees.csv', delimiter=',', skip_header=1, \n",
    "                          usecols = [0], dtype = object)\n",
    "iris_data"
   ]
  },
  {
   "cell_type": "markdown",
   "id": "8285d51a-dd4b-4b98-aece-3f910d52f4d8",
   "metadata": {},
   "source": [
    "##  Exercise 27. How to convert a 1d array of tuples to a 2d\n",
    "numpy array?"
   ]
  },
  {
   "cell_type": "code",
   "execution_count": 12,
   "id": "fbda1cd4-6446-44ce-9d8d-db7a35ca26a8",
   "metadata": {},
   "outputs": [
    {
     "data": {
      "text/plain": [
       "array([[nan, nan, nan, nan],\n",
       "       [nan, nan, nan, nan],\n",
       "       [nan, nan, nan, nan],\n",
       "       ...,\n",
       "       [nan, nan, nan, nan],\n",
       "       [nan, nan, nan, nan],\n",
       "       [nan, nan, nan, nan]])"
      ]
     },
     "execution_count": 12,
     "metadata": {},
     "output_type": "execute_result"
    }
   ],
   "source": [
    "iris_data = np.genfromtxt('C:/Users/KIIT/Downloads/employees.csv', delimiter=',', skip_header=1, dtype='float', usecols=[0,1,2,3])\n",
    "iris_data"
   ]
  },
  {
   "cell_type": "markdown",
   "id": "7d4c453a-f773-4a3c-8f7f-24733c92ca8a",
   "metadata": {},
   "source": [
    "##  Exercise 28. How to compute the mean, median, standard\n",
    "deviation of a numpy array?"
   ]
  },
  {
   "cell_type": "code",
   "execution_count": null,
   "id": "7e93bc40-6368-4b70-a2e4-b2571e6ab0cf",
   "metadata": {},
   "outputs": [],
   "source": []
  },
  {
   "cell_type": "markdown",
   "id": "a1440611-efca-4b0c-ade3-a03a352d278c",
   "metadata": {},
   "source": [
    "##  Exercise 29. How to normalize an array so the values range\n",
    "exactly between 0 and 1?"
   ]
  },
  {
   "cell_type": "code",
   "execution_count": null,
   "id": "218b06d8-0bfe-46f2-8b7d-ce09f29c1175",
   "metadata": {},
   "outputs": [],
   "source": []
  },
  {
   "cell_type": "markdown",
   "id": "9c3e9256-de5c-4dc3-a4b2-140a95e3081e",
   "metadata": {},
   "source": [
    "##  Exercise 30. How to compute the softmax score?"
   ]
  },
  {
   "cell_type": "code",
   "execution_count": null,
   "id": "4cacbd21-3bc9-419d-91d3-68776273c3c7",
   "metadata": {},
   "outputs": [],
   "source": []
  },
  {
   "cell_type": "markdown",
   "id": "7fea1ce2-6b61-4df9-a81c-dd571c300872",
   "metadata": {},
   "source": [
    "##  Exercise 31. How to find the percentile scores of a numpy\n",
    "array?"
   ]
  },
  {
   "cell_type": "code",
   "execution_count": null,
   "id": "b92b1c05-8f37-4dbe-b0bb-75ba0d874ed7",
   "metadata": {},
   "outputs": [],
   "source": []
  },
  {
   "cell_type": "markdown",
   "id": "16cadff5-9071-40cd-8f44-6a9a6a0cc70a",
   "metadata": {},
   "source": [
    "##  Exercise 32. How to insert values at random positions in an\n",
    "array?"
   ]
  },
  {
   "cell_type": "code",
   "execution_count": null,
   "id": "1b502b24-1a40-457a-ad77-2cc64fff32f4",
   "metadata": {},
   "outputs": [],
   "source": []
  },
  {
   "cell_type": "markdown",
   "id": "7dcadbbc-b456-43b9-8f80-b621df97f92f",
   "metadata": {},
   "source": [
    "## Exercise 33. How to find the position of missing values in\n",
    "numpy array?"
   ]
  },
  {
   "cell_type": "code",
   "execution_count": null,
   "id": "0e4cf10a-14c2-4b23-b4f9-88d90065f31e",
   "metadata": {},
   "outputs": [],
   "source": []
  },
  {
   "cell_type": "markdown",
   "id": "8d83a2ed-b6cc-4f4e-8ac3-d1af1cda3e3c",
   "metadata": {},
   "source": [
    "##  Exercise 34. How to filter a numpy array based on two or\n",
    "more conditions?"
   ]
  },
  {
   "cell_type": "code",
   "execution_count": null,
   "id": "9b843f5c-4179-42f5-8139-39e1e98c35dc",
   "metadata": {},
   "outputs": [],
   "source": []
  },
  {
   "cell_type": "markdown",
   "id": "c0a65431-fd17-42e1-99e6-b6b42b4081a2",
   "metadata": {},
   "source": [
    "##  Exercise 35. How to drop rows that contain a missing value\n",
    "from a numpy array?"
   ]
  },
  {
   "cell_type": "code",
   "execution_count": null,
   "id": "eedaf077-71f9-4758-8ac8-76ea64dc7c8d",
   "metadata": {},
   "outputs": [],
   "source": []
  },
  {
   "cell_type": "markdown",
   "id": "474cb5bc-6293-4c19-a456-2d4f01e71adb",
   "metadata": {},
   "source": [
    "##  Exercise 43. How to get the second largest value of an array\n",
    "when grouped by another array?"
   ]
  },
  {
   "cell_type": "code",
   "execution_count": null,
   "id": "34e591cc-a862-4076-8528-5cfd09482da9",
   "metadata": {},
   "outputs": [],
   "source": []
  },
  {
   "cell_type": "markdown",
   "id": "8f3b5a21-f3d0-42d4-9521-7626f5413ef7",
   "metadata": {},
   "source": [
    "##  Exercise 44. How to sort a 2D array by a column"
   ]
  },
  {
   "cell_type": "code",
   "execution_count": null,
   "id": "13eb6a9a-218a-494b-bcaa-452dcea50a03",
   "metadata": {},
   "outputs": [],
   "source": []
  },
  {
   "cell_type": "markdown",
   "id": "6a0a0f91-4d9e-46df-af8d-79d56d478e24",
   "metadata": {},
   "source": [
    "##  Exercise 45. How to find the most frequent value in a numpy\n",
    "array?"
   ]
  },
  {
   "cell_type": "code",
   "execution_count": null,
   "id": "34bb4e15-b309-489b-9499-f51ad28108b9",
   "metadata": {},
   "outputs": [],
   "source": []
  },
  {
   "cell_type": "markdown",
   "id": "6a58f9ed-3563-4270-ad8f-3683740ff0b3",
   "metadata": {},
   "source": [
    "##  Exercise 46. How to find the position of the first occurrence\n",
    "of a value greater than a given value?"
   ]
  },
  {
   "cell_type": "code",
   "execution_count": null,
   "id": "e48a29bd-f8eb-4ec2-a5f4-ad7c39860e25",
   "metadata": {},
   "outputs": [],
   "source": []
  },
  {
   "cell_type": "markdown",
   "id": "f27cabb1-12d7-41e3-b907-ae9f5b545569",
   "metadata": {},
   "source": [
    "##  Exercise 47. How to replace all values greater than a given\n",
    "value to a given cutoff?"
   ]
  },
  {
   "cell_type": "code",
   "execution_count": null,
   "id": "d9f16bd8-5da4-4bf8-82b0-e55ea281894f",
   "metadata": {},
   "outputs": [],
   "source": []
  },
  {
   "cell_type": "markdown",
   "id": "be659d36-dcbf-44fd-ba61-82e161888c0f",
   "metadata": {},
   "source": [
    "##  Exercise 48. How to get the positions of top n values from a\n",
    "numpy array?"
   ]
  },
  {
   "cell_type": "code",
   "execution_count": null,
   "id": "9f434787-e3af-4705-9c12-e97d4dc9b721",
   "metadata": {},
   "outputs": [],
   "source": []
  },
  {
   "cell_type": "markdown",
   "id": "9f085ecd-ffde-460a-a1c1-cb1dd41c438f",
   "metadata": {},
   "source": [
    "##  Exercise 49. How to compute the row wise counts of all\n",
    "possible values in an array?"
   ]
  },
  {
   "cell_type": "code",
   "execution_count": null,
   "id": "37786328-c4cc-49f7-8033-713d9f95dca7",
   "metadata": {},
   "outputs": [],
   "source": []
  },
  {
   "cell_type": "markdown",
   "id": "6cd81eaf-25f0-4ca3-b942-d9df492b6994",
   "metadata": {},
   "source": [
    "##  Exercise 50. How to convert an array of arrays into a flat 1d\n",
    "array?"
   ]
  },
  {
   "cell_type": "code",
   "execution_count": null,
   "id": "6c8412a3-0884-49bb-b132-3f3e0cb31519",
   "metadata": {},
   "outputs": [],
   "source": []
  },
  {
   "cell_type": "markdown",
   "id": "5ebf7c10-b743-4ebf-b5e8-f40d6d8afadc",
   "metadata": {},
   "source": [
    "##  Exercise 51."
   ]
  },
  {
   "cell_type": "markdown",
   "id": "56bdcff0-ae16-4614-a1b8-e7d85767bfd8",
   "metadata": {},
   "source": [
    "##  How to get the n largest values of an array ?"
   ]
  },
  {
   "cell_type": "code",
   "execution_count": null,
   "id": "dfeada2e-45b2-42a7-afad-c6161f130036",
   "metadata": {},
   "outputs": [],
   "source": []
  },
  {
   "cell_type": "markdown",
   "id": "bee235c0-56ac-4ca6-a71c-35944e6a97e4",
   "metadata": {},
   "source": [
    "##  Given an arbitrary number of vectors, build the cartesian\n",
    "product (every combinations of every item)."
   ]
  },
  {
   "cell_type": "code",
   "execution_count": null,
   "id": "09b66ed5-b658-40a5-a3f3-f04d7c1861a0",
   "metadata": {},
   "outputs": [],
   "source": []
  },
  {
   "cell_type": "markdown",
   "id": "6b610175-9b12-4539-915b-aa759d15c383",
   "metadata": {},
   "source": [
    "##  Consider a 16x16 array, how to get the blocksum (block size is\n",
    "4x4)?"
   ]
  },
  {
   "cell_type": "code",
   "execution_count": null,
   "id": "7c20e020-2c6e-4517-aa06-e4fd9017a6ed",
   "metadata": {},
   "outputs": [],
   "source": []
  },
  {
   "cell_type": "markdown",
   "id": "1eb2aa04-fcb8-4d43-b606-cdb0e1a2caa6",
   "metadata": {},
   "source": [
    "##  Compute a matrix rank."
   ]
  },
  {
   "cell_type": "code",
   "execution_count": null,
   "id": "86304233-3f38-47ad-bb86-e0e2986a37bd",
   "metadata": {},
   "outputs": [],
   "source": []
  },
  {
   "cell_type": "markdown",
   "id": "dd368b6c-2211-4b2b-9f0a-76c3416eaf81",
   "metadata": {},
   "source": [
    "##  How to find the most frequent value in an array?"
   ]
  },
  {
   "cell_type": "code",
   "execution_count": null,
   "id": "12cb9dd7-906f-4237-9a9b-0d32764143b7",
   "metadata": {},
   "outputs": [],
   "source": []
  },
  {
   "cell_type": "markdown",
   "id": "bc0b5705-79d8-4f3e-85a0-750e2dcedf49",
   "metadata": {},
   "source": [
    "##  Extract all the contiguous 3x3 blocks from a random 10x10\n",
    "matrix."
   ]
  },
  {
   "cell_type": "code",
   "execution_count": null,
   "id": "903e9b52-8b76-4a5f-99cd-6033e8b40f40",
   "metadata": {},
   "outputs": [],
   "source": []
  }
 ],
 "metadata": {
  "kernelspec": {
   "display_name": "Python 3 (ipykernel)",
   "language": "python",
   "name": "python3"
  },
  "language_info": {
   "codemirror_mode": {
    "name": "ipython",
    "version": 3
   },
   "file_extension": ".py",
   "mimetype": "text/x-python",
   "name": "python",
   "nbconvert_exporter": "python",
   "pygments_lexer": "ipython3",
   "version": "3.11.4"
  }
 },
 "nbformat": 4,
 "nbformat_minor": 5
}
