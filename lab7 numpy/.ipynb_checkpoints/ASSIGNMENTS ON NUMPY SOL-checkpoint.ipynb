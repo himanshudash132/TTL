{
 "cells": [
  {
   "cell_type": "code",
   "execution_count": 1,
   "id": "3436d3e2-7f42-414c-9237-e6fa87b3ee94",
   "metadata": {},
   "outputs": [],
   "source": [
    "## ASSIGNMENTS ON NUMPY"
   ]
  },
  {
   "cell_type": "code",
   "execution_count": null,
   "id": "748290ea-0ba9-4d11-9e8a-fdd7a556d8ef",
   "metadata": {},
   "outputs": [],
   "source": [
    "## EXERCISE 1 - Element-wise addition of 2 numpy arrays\n",
    "Given are 2 similar dimensional numpy arrays, how to get a numpy array output in which every\n",
    "element is an element-wise sum of the 2 numpy arrays?"
   ]
  },
  {
   "cell_type": "code",
   "execution_count": null,
   "id": "94c1ded3-ec88-4c9e-b70a-14b08adf8b47",
   "metadata": {},
   "outputs": [],
   "source": [
    "## EXERCISE 2 - Multiplying a matrix (numpy array) by a scalar\n",
    "Given a numpy array (matrix), how to get a numpy array output which is equal to the original\n",
    "matrix multiplied by a scalar?"
   ]
  },
  {
   "cell_type": "code",
   "execution_count": null,
   "id": "7feccd8b-26eb-4fe9-b5f3-c3a7ee6e1851",
   "metadata": {},
   "outputs": [],
   "source": [
    "## EXERCISE 3 - Identity Matrix\n",
    "Create an identity matrix of dimension 4-by-4\n"
   ]
  },
  {
   "cell_type": "code",
   "execution_count": null,
   "id": "53925277-bd80-401d-86ad-795447ccec22",
   "metadata": {},
   "outputs": [],
   "source": [
    "## EXERCISE 5 - Array datatype conversion\n",
    "Convert all the elements of a numpy array from float to integer datatype\n"
   ]
  },
  {
   "cell_type": "code",
   "execution_count": null,
   "id": "f474ea1e-899b-4765-b192-30c281da48df",
   "metadata": {},
   "outputs": [],
   "source": [
    "## EXERCISE 6 - Obtaining Boolean Array from Binary Array\n",
    "Convert a binary numpy array (containing only 0s and 1s) to a boolean numpy array"
   ]
  },
  {
   "cell_type": "code",
   "execution_count": null,
   "id": "1338e9b8-5f93-4113-b17e-7ac4faf91646",
   "metadata": {},
   "outputs": [],
   "source": [
    "## EXERCISE 7 - Horizontal Stacking of Numpy Arrays\n",
    "Stack 2 numpy arrays horizontally i.e., 2 arrays having the same 1st dimension (number of rows in\n",
    "2D arrays)"
   ]
  },
  {
   "cell_type": "code",
   "execution_count": null,
   "id": "db45b94b-8047-47a3-91a2-f6b3f0331307",
   "metadata": {},
   "outputs": [],
   "source": [
    "## EXERCISE 8 - Vertically Stacking of Numpy Arrays\n",
    "Stack 2 numpy arrays vertically i.e., 2 arrays having the same last dimension (number of columns in\n",
    "2D arrays)"
   ]
  },
  {
   "cell_type": "code",
   "execution_count": null,
   "id": "5fccdb81-9d25-4e91-a97d-589089374f41",
   "metadata": {},
   "outputs": [],
   "source": [
    "## EXERCISE 9 - Custom Sequence Generation\n",
    "Generate a sequence of numbers in the form of a numpy array from 0 to 100 with gaps of 2\n",
    "numbers, for example: 0, 2, 4 ...."
   ]
  },
  {
   "cell_type": "code",
   "execution_count": null,
   "id": "5451dc5c-ebf9-4ec4-9f92-a6bc75342add",
   "metadata": {},
   "outputs": [],
   "source": [
    "## EXERCISE 11 - Generation of given count of equally spaced\n",
    "numbers within a specified range\n",
    "Output a sequence of equally gapped 5 numbers in the range 0 to 100 (both inclusive)"
   ]
  },
  {
   "cell_type": "code",
   "execution_count": null,
   "id": "fbe1272f-830c-4701-857c-8d794e4cf2ef",
   "metadata": {},
   "outputs": [],
   "source": [
    "## EXERCISE 12 - Matrix Generation with one particular value\n",
    "Output a matrix (numpy array) of dimension 2-by-3 with each and every value equal to 5"
   ]
  },
  {
   "cell_type": "code",
   "execution_count": null,
   "id": "06e13bfa-5262-403c-9e69-f88b37e679fb",
   "metadata": {},
   "outputs": [],
   "source": [
    "## EXERCISE 13 - Array Generation by repeatition of a small array\n",
    "across each dimension\n",
    "Output an array by repeating a smaller array of 2 dimensions, 10 times "
   ]
  },
  {
   "cell_type": "code",
   "execution_count": null,
   "id": "32878e33-3912-4618-9909-aff2a6e358db",
   "metadata": {},
   "outputs": [],
   "source": [
    "## EXERCISE 14 - Array Generation of random integers within a\n",
    "specified range\n",
    "Output a 5-by-5 array of random integers between 0 (inclusive) and 10 (exclusive)\n"
   ]
  },
  {
   "cell_type": "code",
   "execution_count": null,
   "id": "433c7bff-eb11-4a10-947a-79d2d8f8feea",
   "metadata": {},
   "outputs": [],
   "source": [
    "## EXERCISE 15 - Array Generation of random numbers following\n",
    "normal distribution\n",
    "Output a 3-by-3 array of random numbers following normal distribution\n"
   ]
  },
  {
   "cell_type": "code",
   "execution_count": null,
   "id": "d3f8cfaa-e8b8-4618-8ed1-eb0dafceda9d",
   "metadata": {},
   "outputs": [],
   "source": [
    "## EXERCISE 16 - Matrix Multiplication\n",
    "Given 2 numpy arrays as matrices, output the result of multiplying the 2 matrices (as a numpy\n",
    "array)\n"
   ]
  },
  {
   "cell_type": "code",
   "execution_count": null,
   "id": "a2cf7a9d-a06d-4fd4-8c2b-f8229a5576b3",
   "metadata": {},
   "outputs": [],
   "source": [
    "## EXERCISE 17 - Matrix Transpose\n",
    "Output the transpose of a matrix (as numpy array)"
   ]
  },
  {
   "cell_type": "code",
   "execution_count": null,
   "id": "9eb86040-4e8c-4dae-bfae-313bfd4c448d",
   "metadata": {},
   "outputs": [],
   "source": [
    "## EXERCISE 18 - Sine of an Angle (in radians)\n",
    "Calculate the sine of an array of angles (in radians) using NumPy"
   ]
  },
  {
   "cell_type": "code",
   "execution_count": null,
   "id": "d6d9f9f1-fb55-428a-8dff-e68a001e7984",
   "metadata": {},
   "outputs": [],
   "source": [
    "## EXERCISE 19 - Cosine Similarity\n",
    "Calculate the cosine similarity of 2 vectors (as numpy arrays)"
   ]
  },
  {
   "cell_type": "code",
   "execution_count": null,
   "id": "35337c11-bbc3-498a-be5a-816bca0a5251",
   "metadata": {},
   "outputs": [],
   "source": [
    "## EXERCISE 20 - Generating the array element indexes such that\n",
    "the array elements appear in ascending order "
   ]
  },
  {
   "cell_type": "markdown",
   "id": "ed785003-4dd4-4b8c-9788-5fbe5e0cbbb3",
   "metadata": {},
   "source": [
    "## NUMPY EXERCISES TO BE DONE IN RECORDS"
   ]
  },
  {
   "cell_type": "code",
   "execution_count": 2,
   "id": "53ba7d6c-e3de-4587-babe-cbb59539308c",
   "metadata": {},
   "outputs": [],
   "source": [
    "# ## NUMPY EXERCISES TO BE DONE IN RECORDS\n",
    "#  Exercise 1. Import numpy as np and see the version\n",
    "#  Exercise 2. How to create a 1D array?\n",
    "#  Exercise 3. How to create a boolean array?\n",
    "#  Exercise 4. How to extract items that satisfy a given\n",
    "# condition from 1D array?\n",
    "#  Exercise 5. How to replace items that satisfy a condition with\n",
    "# another value in numpy array?\n",
    "#  Exercise 6. How to replace items that satisfy a condition\n",
    "# without affecting the original array?\n",
    "#  Exercise 7. How to reshape an array?\n",
    "#  Exercise 8. How to stack two arrays vertically?\n",
    "#  Exercise 9. How to stack two arrays horizontally?\n",
    "#  Exercise 10. How to generate custom sequences in numpy\n",
    "# without hardcoding?\n",
    "#  Exercise 11. How to get the common items between two\n",
    "# python numpy arrays?\n",
    "#  Exercise 12. How to remove from one array those items that\n",
    "# exist in another?\n",
    "#  Exercise 13. How to get the positions where elements of two\n",
    "# arrays match?\n",
    "#  Exercise 14. How to extract all numbers between a given\n",
    "# range from a numpy array?\n",
    "#  Exercise 15. How to make a python function that handles\n",
    "# scalars to work on numpy arrays?\n",
    "#  Exercise 16. How to swap two columns in a 2d numpy array?\n",
    "#  Exercise 17. How to swap two rows in a 2d numpy array?\n",
    "#  Exercise 18. How to reverse the rows of a 2D array?\n",
    "#  Exercise 19. How to reverse the columns of a 2D array?\n",
    "#  Exercise 20. How to create a 2D array containing random\n",
    "# floats between 5 and 10?\n",
    "#  Exercise 21. How to print only 3 decimal places in python\n",
    "# numpy array?\n",
    "#  Exercise 22. How to pretty print a numpy array by\n",
    "# suppressing the scientific notation (like 1e10)?\n",
    "#  Exercise 23. How to limit the number of items printed in\n",
    "# output of numpy array?\n",
    "#  Exercise 24. How to print the full numpy array without\n",
    "# truncating\n",
    "#  Exercise 25. How to import a dataset with numbers and\n",
    "# texts keeping the text intact in python numpy?\n",
    "#  Exercise 26. How to extract a particular column from 1D\n",
    "# array of tuples?\n",
    "#  Exercise 27. How to convert a 1d array of tuples to a 2d\n",
    "# numpy array?\n",
    "#  Exercise 28. How to compute the mean, median, standard\n",
    "# deviation of a numpy array?\n",
    "#  Exercise 29. How to normalize an array so the values range\n",
    "# exactly between 0 and 1?\n",
    "#  Exercise 30. How to compute the softmax score?\n",
    "#  Exercise 31. How to find the percentile scores of a numpy\n",
    "# array?\n",
    "#  Exercise 32. How to insert values at random positions in an\n",
    "# array?\n",
    "#  Exercise 33. How to find the position of missing values in\n",
    "# numpy array?\n",
    "#  Exercise 34. How to filter a numpy array based on two or\n",
    "# more conditions?\n",
    "#  Exercise 35. How to drop rows that contain a missing value\n",
    "# from a numpy array?\n",
    "#  Exercise 36. How to find the correlation between two\n",
    "# columns of a numpy array?\n",
    "#  Exercise 43. How to get the second largest value of an array\n",
    "# when grouped by another array?\n",
    "#  Exercise 44. How to sort a 2D array by a column\n",
    "#  Exercise 45. How to find the most frequent value in a numpy\n",
    "# array?\n",
    "#  Exercise 46. How to find the position of the first occurrence\n",
    "# of a value greater than a given value?\n",
    "#  Exercise 47. How to replace all values greater than a given\n",
    "# value to a given cutoff?\n",
    "#  Exercise 48. How to get the positions of top n values from a\n",
    "# numpy array?\n",
    "#  Exercise 49. How to compute the row wise counts of all\n",
    "# possible values in an array?\n",
    "#  Exercise 50. How to convert an array of arrays into a flat 1d\n",
    "# array?\n",
    "#  Exercise 51.\n",
    "#  How to get the n largest values of an array ?\n",
    "#  Given an arbitrary number of vectors, build the cartesian\n",
    "# product (every combinations of every item).\n",
    "#  Consider a 16x16 array, how to get the blocksum (block size is\n",
    "# 4x4)?\n",
    "#  Compute a matrix rank.\n",
    "#  How to find the most frequent value in an array?\n",
    "#  Extract all the contiguous 3x3 blocks from a random 10x10\n",
    "# matrix."
   ]
  },
  {
   "cell_type": "code",
   "execution_count": null,
   "id": "15dfca29-9483-4edd-b0d5-9e02421116dc",
   "metadata": {},
   "outputs": [],
   "source": [
    "## "
   ]
  },
  {
   "cell_type": "code",
   "execution_count": null,
   "id": "3720dc24-0910-4618-9b95-edbef2014d72",
   "metadata": {},
   "outputs": [],
   "source": [
    "## "
   ]
  },
  {
   "cell_type": "code",
   "execution_count": null,
   "id": "e1afa84f-792c-4df4-afa0-c168eea58b0b",
   "metadata": {},
   "outputs": [],
   "source": [
    "## "
   ]
  },
  {
   "cell_type": "code",
   "execution_count": null,
   "id": "56e90b21-fe14-4980-85cb-218234dedfce",
   "metadata": {},
   "outputs": [],
   "source": [
    "## "
   ]
  },
  {
   "cell_type": "code",
   "execution_count": null,
   "id": "462cc30a-59b8-4742-a5a8-652de32fe0e3",
   "metadata": {},
   "outputs": [],
   "source": [
    "## "
   ]
  },
  {
   "cell_type": "code",
   "execution_count": null,
   "id": "d099f630-f049-4a69-9131-eaab14f1c604",
   "metadata": {},
   "outputs": [],
   "source": [
    "## "
   ]
  },
  {
   "cell_type": "code",
   "execution_count": null,
   "id": "e087e660-18b7-4fef-98c0-9ec2a4505185",
   "metadata": {},
   "outputs": [],
   "source": [
    "## "
   ]
  },
  {
   "cell_type": "code",
   "execution_count": null,
   "id": "21ac7241-6170-4ba5-8a7b-3a76162a1178",
   "metadata": {},
   "outputs": [],
   "source": [
    "## "
   ]
  },
  {
   "cell_type": "code",
   "execution_count": null,
   "id": "b6351a7c-1dd7-4771-896d-7d173475bd2a",
   "metadata": {},
   "outputs": [],
   "source": [
    "## "
   ]
  },
  {
   "cell_type": "code",
   "execution_count": null,
   "id": "0c25d21e-5001-4312-b64d-e978ea85f746",
   "metadata": {},
   "outputs": [],
   "source": [
    "## "
   ]
  },
  {
   "cell_type": "code",
   "execution_count": null,
   "id": "d17f9aba-6c61-4578-949b-94a93c125f67",
   "metadata": {},
   "outputs": [],
   "source": [
    "## "
   ]
  },
  {
   "cell_type": "code",
   "execution_count": null,
   "id": "bb9ad4e3-a857-4c6f-a982-f2f8a56b4223",
   "metadata": {},
   "outputs": [],
   "source": [
    "## "
   ]
  },
  {
   "cell_type": "code",
   "execution_count": null,
   "id": "117c4799-18f5-4bef-a3fc-fdfb558c292d",
   "metadata": {},
   "outputs": [],
   "source": [
    "## "
   ]
  },
  {
   "cell_type": "code",
   "execution_count": null,
   "id": "92b72457-6e09-464e-a1b3-5c8f28d247d4",
   "metadata": {},
   "outputs": [],
   "source": [
    "## "
   ]
  },
  {
   "cell_type": "code",
   "execution_count": null,
   "id": "2d9ba919-44ee-4959-9e92-80fbbf1edcb8",
   "metadata": {},
   "outputs": [],
   "source": [
    "## "
   ]
  },
  {
   "cell_type": "code",
   "execution_count": null,
   "id": "e5ed0f89-407b-4ac7-a259-41f83ff8025a",
   "metadata": {},
   "outputs": [],
   "source": [
    "## "
   ]
  },
  {
   "cell_type": "code",
   "execution_count": null,
   "id": "7aae1da6-ade6-4508-a486-dfed9a79e041",
   "metadata": {},
   "outputs": [],
   "source": [
    "## "
   ]
  },
  {
   "cell_type": "code",
   "execution_count": null,
   "id": "2296f5c3-32fb-4518-8e62-9048a95fe407",
   "metadata": {},
   "outputs": [],
   "source": [
    "## "
   ]
  },
  {
   "cell_type": "code",
   "execution_count": null,
   "id": "08886d76-ae52-4e41-b32c-9d59b241ae8e",
   "metadata": {},
   "outputs": [],
   "source": [
    "## "
   ]
  },
  {
   "cell_type": "code",
   "execution_count": null,
   "id": "c58cf627-05e7-40ff-ae21-2e286880fff2",
   "metadata": {},
   "outputs": [],
   "source": [
    "## "
   ]
  },
  {
   "cell_type": "code",
   "execution_count": null,
   "id": "c2145601-b52d-4343-8ced-0675fbb39256",
   "metadata": {},
   "outputs": [],
   "source": [
    "## "
   ]
  },
  {
   "cell_type": "code",
   "execution_count": null,
   "id": "2348c021-5a12-4731-9c65-060882c0b877",
   "metadata": {},
   "outputs": [],
   "source": [
    "## "
   ]
  },
  {
   "cell_type": "code",
   "execution_count": null,
   "id": "3c186833-4fde-4193-b55e-706936542b4b",
   "metadata": {},
   "outputs": [],
   "source": [
    "## "
   ]
  },
  {
   "cell_type": "code",
   "execution_count": null,
   "id": "897ee603-eece-4158-b9ba-2a32a4822121",
   "metadata": {},
   "outputs": [],
   "source": [
    "## "
   ]
  },
  {
   "cell_type": "code",
   "execution_count": null,
   "id": "c72269bd-0a83-474b-94f8-45062c08d076",
   "metadata": {},
   "outputs": [],
   "source": [
    "## "
   ]
  },
  {
   "cell_type": "code",
   "execution_count": null,
   "id": "1ac0c60f-00b1-48e9-b3fb-0cc0e52690c0",
   "metadata": {},
   "outputs": [],
   "source": [
    "## "
   ]
  },
  {
   "cell_type": "code",
   "execution_count": null,
   "id": "c49d7feb-6be3-46a0-9dfd-07203c580c0f",
   "metadata": {},
   "outputs": [],
   "source": [
    "## "
   ]
  },
  {
   "cell_type": "code",
   "execution_count": null,
   "id": "67aee1cf-ad82-47d1-a9d9-e97b854e60be",
   "metadata": {},
   "outputs": [],
   "source": [
    "## "
   ]
  },
  {
   "cell_type": "code",
   "execution_count": null,
   "id": "dfb1ebab-d781-4b3b-9503-8c3df0784073",
   "metadata": {},
   "outputs": [],
   "source": [
    "## "
   ]
  },
  {
   "cell_type": "code",
   "execution_count": null,
   "id": "0d70d29a-96c9-46a1-af5a-d3f215225bc5",
   "metadata": {},
   "outputs": [],
   "source": [
    "## "
   ]
  },
  {
   "cell_type": "code",
   "execution_count": null,
   "id": "7786351a-f389-4363-b059-de15b37f4a4f",
   "metadata": {},
   "outputs": [],
   "source": [
    "## "
   ]
  },
  {
   "cell_type": "code",
   "execution_count": null,
   "id": "f58d19b7-7d86-48e0-83b3-d3cc551aeaa7",
   "metadata": {},
   "outputs": [],
   "source": [
    "## "
   ]
  },
  {
   "cell_type": "code",
   "execution_count": null,
   "id": "40526ec7-b6f0-43fc-ba53-39d851867ffd",
   "metadata": {},
   "outputs": [],
   "source": [
    "## "
   ]
  },
  {
   "cell_type": "code",
   "execution_count": null,
   "id": "fa056fa2-6fbd-4716-beb2-cadbee5700a8",
   "metadata": {},
   "outputs": [],
   "source": [
    "## "
   ]
  },
  {
   "cell_type": "code",
   "execution_count": null,
   "id": "675d264c-3894-4dc8-82f5-ff15aaaba2bf",
   "metadata": {},
   "outputs": [],
   "source": [
    "## "
   ]
  },
  {
   "cell_type": "code",
   "execution_count": null,
   "id": "b8c0b094-cf70-47ee-a62e-f0baacfc5d60",
   "metadata": {},
   "outputs": [],
   "source": [
    "## "
   ]
  },
  {
   "cell_type": "code",
   "execution_count": null,
   "id": "9f4b9656-6169-4d5c-a10c-9dd0adf4133b",
   "metadata": {},
   "outputs": [],
   "source": [
    "## "
   ]
  },
  {
   "cell_type": "code",
   "execution_count": null,
   "id": "72881152-0b87-4521-b944-2a3b28a8dbe1",
   "metadata": {},
   "outputs": [],
   "source": [
    "## "
   ]
  },
  {
   "cell_type": "code",
   "execution_count": null,
   "id": "db399276-51f5-411e-84a3-37527617c225",
   "metadata": {},
   "outputs": [],
   "source": [
    "## "
   ]
  },
  {
   "cell_type": "code",
   "execution_count": null,
   "id": "2b05232f-0e8b-47ac-b4a7-4cda737d2d44",
   "metadata": {},
   "outputs": [],
   "source": [
    "## "
   ]
  },
  {
   "cell_type": "code",
   "execution_count": null,
   "id": "7a6d7522-88ac-4457-8f77-ea9df4a5d16f",
   "metadata": {},
   "outputs": [],
   "source": [
    "## "
   ]
  },
  {
   "cell_type": "code",
   "execution_count": null,
   "id": "e7a46143-c513-4db4-910d-cc713f8ce5c5",
   "metadata": {},
   "outputs": [],
   "source": [
    "## "
   ]
  },
  {
   "cell_type": "code",
   "execution_count": null,
   "id": "919f1704-1735-4f0a-83e0-5600d36ad4ae",
   "metadata": {},
   "outputs": [],
   "source": [
    "## "
   ]
  },
  {
   "cell_type": "code",
   "execution_count": null,
   "id": "c6af2dfb-cd9b-4039-8353-df17e825f0e3",
   "metadata": {},
   "outputs": [],
   "source": [
    "## "
   ]
  },
  {
   "cell_type": "code",
   "execution_count": null,
   "id": "d8ddfd15-d46d-4104-8d1f-75970e0ef029",
   "metadata": {},
   "outputs": [],
   "source": [
    "## "
   ]
  },
  {
   "cell_type": "code",
   "execution_count": null,
   "id": "2d541689-51dd-4c78-90c4-5951ed3a0d44",
   "metadata": {},
   "outputs": [],
   "source": [
    "## "
   ]
  },
  {
   "cell_type": "code",
   "execution_count": null,
   "id": "169c351b-1fa8-4c03-8b1f-6d1dcdb2aeb8",
   "metadata": {},
   "outputs": [],
   "source": [
    "## "
   ]
  },
  {
   "cell_type": "code",
   "execution_count": null,
   "id": "428a31b5-58af-4304-a8a0-2d9b2199008c",
   "metadata": {},
   "outputs": [],
   "source": [
    "## "
   ]
  },
  {
   "cell_type": "code",
   "execution_count": null,
   "id": "a0766154-a3ec-4525-ad13-6b05af4783ec",
   "metadata": {},
   "outputs": [],
   "source": [
    "## "
   ]
  },
  {
   "cell_type": "code",
   "execution_count": null,
   "id": "3d1a62c5-55a6-4822-acda-432636a45a69",
   "metadata": {},
   "outputs": [],
   "source": [
    "## "
   ]
  },
  {
   "cell_type": "code",
   "execution_count": null,
   "id": "eeee3bf9-8f40-4875-a0d3-1b869ba23c5d",
   "metadata": {},
   "outputs": [],
   "source": [
    "## "
   ]
  },
  {
   "cell_type": "code",
   "execution_count": null,
   "id": "f5556345-1cc6-44c4-8dc8-56fb9aa83a41",
   "metadata": {},
   "outputs": [],
   "source": [
    "## "
   ]
  },
  {
   "cell_type": "code",
   "execution_count": null,
   "id": "d04651b6-d03f-4533-9b8c-4192b838ef0e",
   "metadata": {},
   "outputs": [],
   "source": [
    "## "
   ]
  },
  {
   "cell_type": "code",
   "execution_count": null,
   "id": "d0dbc623-0d36-4259-9501-6ab99b676aca",
   "metadata": {},
   "outputs": [],
   "source": [
    "## "
   ]
  },
  {
   "cell_type": "code",
   "execution_count": null,
   "id": "b2e72b64-3cbf-4ce0-a6a6-eae1b38a2378",
   "metadata": {},
   "outputs": [],
   "source": [
    "## "
   ]
  },
  {
   "cell_type": "code",
   "execution_count": null,
   "id": "d17d4f0b-809a-40b5-abe1-ff6799254cf8",
   "metadata": {},
   "outputs": [],
   "source": [
    "## "
   ]
  },
  {
   "cell_type": "code",
   "execution_count": null,
   "id": "d918e5c9-6bd0-401e-b50f-c3488af99ad3",
   "metadata": {},
   "outputs": [],
   "source": [
    "## "
   ]
  },
  {
   "cell_type": "code",
   "execution_count": null,
   "id": "3ee3ce85-c415-45a9-a96c-1ae9741ae354",
   "metadata": {},
   "outputs": [],
   "source": [
    "## "
   ]
  },
  {
   "cell_type": "code",
   "execution_count": null,
   "id": "dab5a22d-2fd4-40f5-862f-8487aca5fa3f",
   "metadata": {},
   "outputs": [],
   "source": [
    "## "
   ]
  },
  {
   "cell_type": "code",
   "execution_count": null,
   "id": "b8a84ed9-9911-4455-8b7f-2dceb698be01",
   "metadata": {},
   "outputs": [],
   "source": [
    "## "
   ]
  },
  {
   "cell_type": "code",
   "execution_count": null,
   "id": "41d2f7da-373b-41b1-a393-016d03a9ff9d",
   "metadata": {},
   "outputs": [],
   "source": [
    "## "
   ]
  },
  {
   "cell_type": "code",
   "execution_count": null,
   "id": "2180fca9-2f8d-46cc-8677-e63e886f3610",
   "metadata": {},
   "outputs": [],
   "source": [
    "## "
   ]
  },
  {
   "cell_type": "code",
   "execution_count": null,
   "id": "f85c0eeb-24a3-45ab-a0c2-e49766d56911",
   "metadata": {},
   "outputs": [],
   "source": [
    "## "
   ]
  },
  {
   "cell_type": "code",
   "execution_count": null,
   "id": "5fb43dc8-e217-44e1-9c68-964b0f2087a7",
   "metadata": {},
   "outputs": [],
   "source": [
    "## "
   ]
  },
  {
   "cell_type": "code",
   "execution_count": null,
   "id": "d7718cfa-e4b6-48c5-a234-260f9d6f389d",
   "metadata": {},
   "outputs": [],
   "source": [
    "## "
   ]
  },
  {
   "cell_type": "code",
   "execution_count": null,
   "id": "f2d699ce-4add-468a-ab7c-7660420227db",
   "metadata": {},
   "outputs": [],
   "source": [
    "## "
   ]
  },
  {
   "cell_type": "code",
   "execution_count": null,
   "id": "bf85023f-13d1-48f0-886a-86457193f0e0",
   "metadata": {},
   "outputs": [],
   "source": [
    "## "
   ]
  },
  {
   "cell_type": "code",
   "execution_count": null,
   "id": "27a9e459-6925-4733-99b9-ed523e268c35",
   "metadata": {},
   "outputs": [],
   "source": [
    "## "
   ]
  },
  {
   "cell_type": "code",
   "execution_count": null,
   "id": "8b70e52c-9a31-43c6-afa3-69bc0380065b",
   "metadata": {},
   "outputs": [],
   "source": [
    "## "
   ]
  },
  {
   "cell_type": "code",
   "execution_count": null,
   "id": "170d3689-9e6c-4c8a-9bd3-952e9a64a6a3",
   "metadata": {},
   "outputs": [],
   "source": [
    "## "
   ]
  },
  {
   "cell_type": "code",
   "execution_count": null,
   "id": "19609f1e-cfab-46a6-8799-7964d6510216",
   "metadata": {},
   "outputs": [],
   "source": [
    "## "
   ]
  },
  {
   "cell_type": "code",
   "execution_count": null,
   "id": "ffdadbee-5043-4355-9940-2dc705313f9e",
   "metadata": {},
   "outputs": [],
   "source": [
    "## "
   ]
  },
  {
   "cell_type": "code",
   "execution_count": null,
   "id": "decfe905-b141-4fe1-811c-760fd027928a",
   "metadata": {},
   "outputs": [],
   "source": []
  },
  {
   "cell_type": "code",
   "execution_count": null,
   "id": "524e47a8-a521-4f8e-b959-dbe4bf60bab3",
   "metadata": {},
   "outputs": [],
   "source": []
  }
 ],
 "metadata": {
  "kernelspec": {
   "display_name": "Python 3 (ipykernel)",
   "language": "python",
   "name": "python3"
  },
  "language_info": {
   "codemirror_mode": {
    "name": "ipython",
    "version": 3
   },
   "file_extension": ".py",
   "mimetype": "text/x-python",
   "name": "python",
   "nbconvert_exporter": "python",
   "pygments_lexer": "ipython3",
   "version": "3.11.4"
  }
 },
 "nbformat": 4,
 "nbformat_minor": 5
}
