{
 "cells": [
  {
   "cell_type": "markdown",
   "id": "1d8d4afd-27b5-42e2-856f-0daa8db65279",
   "metadata": {},
   "source": [
    "## Lab. Exercise(LE):\n",
    "## Dataset- Salaries.csv \n",
    "## Answer the Following:"
   ]
  },
  {
   "cell_type": "code",
   "execution_count": 27,
   "id": "2f30ea29-610c-4834-83fa-eebcf3abd13e",
   "metadata": {},
   "outputs": [],
   "source": [
    "import pandas as pd\n",
    "import numpy as np"
   ]
  },
  {
   "cell_type": "markdown",
   "id": "a7b0a895-a88b-4523-a510-55369c980d98",
   "metadata": {},
   "source": [
    "## 1) Import the dataset \"Salaries.csv\"."
   ]
  },
  {
   "cell_type": "code",
   "execution_count": 3,
   "id": "64befd30-bde5-4278-bde5-a59dd665fdce",
   "metadata": {},
   "outputs": [
    {
     "data": {
      "text/html": [
       "<div>\n",
       "<style scoped>\n",
       "    .dataframe tbody tr th:only-of-type {\n",
       "        vertical-align: middle;\n",
       "    }\n",
       "\n",
       "    .dataframe tbody tr th {\n",
       "        vertical-align: top;\n",
       "    }\n",
       "\n",
       "    .dataframe thead th {\n",
       "        text-align: right;\n",
       "    }\n",
       "</style>\n",
       "<table border=\"1\" class=\"dataframe\">\n",
       "  <thead>\n",
       "    <tr style=\"text-align: right;\">\n",
       "      <th></th>\n",
       "      <th>rank</th>\n",
       "      <th>discipline</th>\n",
       "      <th>phd</th>\n",
       "      <th>service</th>\n",
       "      <th>sex</th>\n",
       "      <th>salary</th>\n",
       "    </tr>\n",
       "  </thead>\n",
       "  <tbody>\n",
       "    <tr>\n",
       "      <th>0</th>\n",
       "      <td>Prof</td>\n",
       "      <td>B</td>\n",
       "      <td>56.0</td>\n",
       "      <td>49</td>\n",
       "      <td>Male</td>\n",
       "      <td>186960.0</td>\n",
       "    </tr>\n",
       "    <tr>\n",
       "      <th>1</th>\n",
       "      <td>Prof</td>\n",
       "      <td>A</td>\n",
       "      <td>12.0</td>\n",
       "      <td>6</td>\n",
       "      <td>Male</td>\n",
       "      <td>93000.0</td>\n",
       "    </tr>\n",
       "    <tr>\n",
       "      <th>2</th>\n",
       "      <td>Prof</td>\n",
       "      <td>A</td>\n",
       "      <td>23.0</td>\n",
       "      <td>20</td>\n",
       "      <td>Male</td>\n",
       "      <td>110515.0</td>\n",
       "    </tr>\n",
       "    <tr>\n",
       "      <th>3</th>\n",
       "      <td>Prof</td>\n",
       "      <td>A</td>\n",
       "      <td>40.0</td>\n",
       "      <td>31</td>\n",
       "      <td>Male</td>\n",
       "      <td>131205.0</td>\n",
       "    </tr>\n",
       "    <tr>\n",
       "      <th>4</th>\n",
       "      <td>Prof</td>\n",
       "      <td>B</td>\n",
       "      <td>20.0</td>\n",
       "      <td>18</td>\n",
       "      <td>Male</td>\n",
       "      <td>104800.0</td>\n",
       "    </tr>\n",
       "    <tr>\n",
       "      <th>...</th>\n",
       "      <td>...</td>\n",
       "      <td>...</td>\n",
       "      <td>...</td>\n",
       "      <td>...</td>\n",
       "      <td>...</td>\n",
       "      <td>...</td>\n",
       "    </tr>\n",
       "    <tr>\n",
       "      <th>73</th>\n",
       "      <td>Prof</td>\n",
       "      <td>B</td>\n",
       "      <td>18.0</td>\n",
       "      <td>10</td>\n",
       "      <td>Female</td>\n",
       "      <td>105450.0</td>\n",
       "    </tr>\n",
       "    <tr>\n",
       "      <th>74</th>\n",
       "      <td>AssocProf</td>\n",
       "      <td>B</td>\n",
       "      <td>19.0</td>\n",
       "      <td>6</td>\n",
       "      <td>Female</td>\n",
       "      <td>104542.0</td>\n",
       "    </tr>\n",
       "    <tr>\n",
       "      <th>75</th>\n",
       "      <td>Prof</td>\n",
       "      <td>B</td>\n",
       "      <td>17.0</td>\n",
       "      <td>17</td>\n",
       "      <td>Female</td>\n",
       "      <td>124312.0</td>\n",
       "    </tr>\n",
       "    <tr>\n",
       "      <th>76</th>\n",
       "      <td>Prof</td>\n",
       "      <td>A</td>\n",
       "      <td>28.0</td>\n",
       "      <td>14</td>\n",
       "      <td>Female</td>\n",
       "      <td>109954.0</td>\n",
       "    </tr>\n",
       "    <tr>\n",
       "      <th>77</th>\n",
       "      <td>Prof</td>\n",
       "      <td>A</td>\n",
       "      <td>23.0</td>\n",
       "      <td>15</td>\n",
       "      <td>Female</td>\n",
       "      <td>109646.0</td>\n",
       "    </tr>\n",
       "  </tbody>\n",
       "</table>\n",
       "<p>78 rows × 6 columns</p>\n",
       "</div>"
      ],
      "text/plain": [
       "         rank discipline   phd  service     sex    salary\n",
       "0        Prof          B  56.0       49    Male  186960.0\n",
       "1        Prof          A  12.0        6    Male   93000.0\n",
       "2        Prof          A  23.0       20    Male  110515.0\n",
       "3        Prof          A  40.0       31    Male  131205.0\n",
       "4        Prof          B  20.0       18    Male  104800.0\n",
       "..        ...        ...   ...      ...     ...       ...\n",
       "73       Prof          B  18.0       10  Female  105450.0\n",
       "74  AssocProf          B  19.0        6  Female  104542.0\n",
       "75       Prof          B  17.0       17  Female  124312.0\n",
       "76       Prof          A  28.0       14  Female  109954.0\n",
       "77       Prof          A  23.0       15  Female  109646.0\n",
       "\n",
       "[78 rows x 6 columns]"
      ]
     },
     "execution_count": 3,
     "metadata": {},
     "output_type": "execute_result"
    }
   ],
   "source": [
    "# Load the data\n",
    "df = pd.read_csv('Salaries.csv')\n",
    "df"
   ]
  },
  {
   "cell_type": "markdown",
   "id": "3e08a31b-7d63-4946-84a4-52f249e0a92c",
   "metadata": {},
   "source": [
    "## 2) Display how many rows and how many columns and Display first 10rowsandlast 15 rows."
   ]
  },
  {
   "cell_type": "code",
   "execution_count": 16,
   "id": "14bba491-28cb-44ed-8848-dbe4a5b63834",
   "metadata": {},
   "outputs": [
    {
     "name": "stdout",
     "output_type": "stream",
     "text": [
      "num_rows, num_cols 78 6\n",
      "--------------------------\n",
      "first_10_rows---->\n",
      "        rank discipline   phd  service   sex    salary\n",
      "0       Prof          B  56.0       49  Male  186960.0\n",
      "1       Prof          A  12.0        6  Male   93000.0\n",
      "2       Prof          A  23.0       20  Male  110515.0\n",
      "3       Prof          A  40.0       31  Male  131205.0\n",
      "4       Prof          B  20.0       18  Male  104800.0\n",
      "5       Prof          A  20.0       20  Male  122400.0\n",
      "6  AssocProf          A  20.0       17  Male   81285.0\n",
      "7       Prof          A  18.0       18  Male       NaN\n",
      "8       Prof          A  29.0       19  Male   94350.0\n",
      "9       Prof          A  51.0       51  Male   57800.0\n",
      "last_15_rows---->\n",
      "         rank discipline   phd  service     sex    salary\n",
      "63       Prof          A  29.0       27  Female   91000.0\n",
      "64  AssocProf          A  26.0       24  Female   73300.0\n",
      "65       Prof          A  36.0       19  Female  117555.0\n",
      "66   AsstProf          A   7.0        6  Female   63100.0\n",
      "67       Prof          A  17.0       11  Female   90450.0\n",
      "68   AsstProf          A   4.0        2  Female   77500.0\n",
      "69       Prof          A  28.0        7  Female  116450.0\n",
      "70   AsstProf          A   8.0        3  Female   78500.0\n",
      "71  AssocProf          B  12.0        9  Female   71065.0\n",
      "72       Prof          B  24.0       15  Female  161101.0\n",
      "73       Prof          B  18.0       10  Female  105450.0\n",
      "74  AssocProf          B  19.0        6  Female  104542.0\n",
      "75       Prof          B  17.0       17  Female  124312.0\n",
      "76       Prof          A  28.0       14  Female  109954.0\n",
      "77       Prof          A  23.0       15  Female  109646.0\n"
     ]
    }
   ],
   "source": [
    "import pandas as pd\n",
    "\n",
    "# Import the dataset\n",
    "df = pd.read_csv('Salaries.csv')\n",
    "\n",
    "# Display the number of rows and columns\n",
    "num_rows, num_cols = df.shape\n",
    "\n",
    "# Display the first 10 rows\n",
    "first_10_rows = df.head(10)\n",
    "\n",
    "# Display the last 15 rows\n",
    "last_15_rows = df.tail(15)\n",
    "print(\"num_rows, num_cols\",num_rows, num_cols)\n",
    "print(\"--------------------------\")\n",
    "print(\"first_10_rows---->\")\n",
    "print(first_10_rows)\n",
    "print(\"last_15_rows---->\")\n",
    "print(last_15_rows)"
   ]
  },
  {
   "cell_type": "markdown",
   "id": "275c5f71-6847-444c-b297-cdc960f3a6bd",
   "metadata": {},
   "source": [
    "## 3) Which Male and Female Professor has the highest and the lowest salaries?"
   ]
  },
  {
   "cell_type": "code",
   "execution_count": 23,
   "id": "288dfadb-b447-4bcc-a698-167efc4e09e6",
   "metadata": {},
   "outputs": [
    {
     "name": "stdout",
     "output_type": "stream",
     "text": [
      "Male professor with highest salary:\n",
      "   rank discipline   phd  service   sex    salary\n",
      "0  Prof          B  56.0       49  Male  186960.0\n",
      "\n",
      "Male professor with lowest salary:\n",
      "   rank discipline   phd  service   sex   salary\n",
      "9  Prof          A  51.0       51  Male  57800.0\n",
      "\n",
      "Female professor with highest salary:\n",
      "    rank discipline   phd  service     sex    salary\n",
      "72  Prof          B  24.0       15  Female  161101.0\n",
      "\n",
      "Female professor with lowest salary:\n",
      "         rank discipline   phd  service     sex   salary\n",
      "54  AssocProf          A  25.0       22  Female  62884.0\n"
     ]
    }
   ],
   "source": [
    "import pandas as pd\n",
    "\n",
    "# Assuming your dataset is stored in a DataFrame called df\n",
    "\n",
    "# Filtering male professors\n",
    "male_professors = df[df['sex'] =='Male']\n",
    "# Finding male professor with highest salary\n",
    "highest_male_salary = male_professors[male_professors['salary']== male_professors['salary'].max()]\n",
    "\n",
    "# Finding male professor with lowest salary\n",
    "lowest_male_salary =  male_professors[male_professors['salary']== male_professors['salary'].min()]\n",
    "\n",
    "# Filtering female professors\n",
    "female_professors = df[df['sex'] =='Female']\n",
    "# Finding female professor with highest salary\n",
    "highest_female_salary = female_professors[female_professors['salary']== female_professors['salary'].max()]\n",
    "\n",
    "# Finding female professor with lowest salary\n",
    "lowest_female_salary = female_professors[female_professors['salary']== female_professors['salary'].min()]\n",
    "\n",
    "print(\"Male professor with highest salary:\")\n",
    "print(highest_male_salary)\n",
    "print(\"\\nMale professor with lowest salary:\")\n",
    "print(lowest_male_salary)\n",
    "print(\"\\nFemale professor with highest salary:\")\n",
    "print(highest_female_salary)\n",
    "print(\"\\nFemale professor with lowest salary:\")\n",
    "print(lowest_female_salary)"
   ]
  },
  {
   "cell_type": "markdown",
   "id": "88a614e1-6152-403b-bf13-39146c1a669a",
   "metadata": {},
   "source": [
    "## 4) Which Professor takes the highest and lowest salaries?"
   ]
  },
  {
   "cell_type": "code",
   "execution_count": 24,
   "id": "4fb79f7b-dbb9-48fe-83c9-83dfac527afe",
   "metadata": {},
   "outputs": [
    {
     "name": "stdout",
     "output_type": "stream",
     "text": [
      "Professor with the highest salary:\n",
      "   rank discipline   phd  service   sex    salary\n",
      "0  Prof          B  56.0       49  Male  186960.0\n",
      "\n",
      "Professor with the lowest salary:\n",
      "   rank discipline   phd  service   sex   salary\n",
      "9  Prof          A  51.0       51  Male  57800.0\n"
     ]
    }
   ],
   "source": [
    "# Finding professor with the highest salary\n",
    "highest_salary_professor = df[df['salary'] == df['salary'].max()]\n",
    "\n",
    "# Finding professor with the lowest salary\n",
    "lowest_salary_professor = df[df['salary'] == df['salary'].min()]\n",
    "\n",
    "print(\"Professor with the highest salary:\")\n",
    "print(highest_salary_professor)\n",
    "print(\"\\nProfessor with the lowest salary:\")\n",
    "print(lowest_salary_professor)"
   ]
  },
  {
   "cell_type": "markdown",
   "id": "cac696e8-0d3c-44bd-a879-4ae40e8d6cb2",
   "metadata": {},
   "source": [
    "## 5) Missing ‘Salaries’ - should be replaced as mean of the matching salariesof thosewhose ‘service’ is the same"
   ]
  },
  {
   "cell_type": "code",
   "execution_count": 25,
   "id": "d7f7bc88-263d-4f25-8334-2214f9c9bf17",
   "metadata": {},
   "outputs": [
    {
     "data": {
      "text/html": [
       "<div>\n",
       "<style scoped>\n",
       "    .dataframe tbody tr th:only-of-type {\n",
       "        vertical-align: middle;\n",
       "    }\n",
       "\n",
       "    .dataframe tbody tr th {\n",
       "        vertical-align: top;\n",
       "    }\n",
       "\n",
       "    .dataframe thead th {\n",
       "        text-align: right;\n",
       "    }\n",
       "</style>\n",
       "<table border=\"1\" class=\"dataframe\">\n",
       "  <thead>\n",
       "    <tr style=\"text-align: right;\">\n",
       "      <th></th>\n",
       "      <th>rank</th>\n",
       "      <th>discipline</th>\n",
       "      <th>phd</th>\n",
       "      <th>service</th>\n",
       "      <th>sex</th>\n",
       "      <th>salary</th>\n",
       "    </tr>\n",
       "  </thead>\n",
       "  <tbody>\n",
       "  </tbody>\n",
       "</table>\n",
       "</div>"
      ],
      "text/plain": [
       "Empty DataFrame\n",
       "Columns: [rank, discipline, phd, service, sex, salary]\n",
       "Index: []"
      ]
     },
     "execution_count": 25,
     "metadata": {},
     "output_type": "execute_result"
    }
   ],
   "source": [
    "# Replace missing 'Salary' values with the mean of matching salaries for those with the same 'service'\n",
    "df['salary'] = df['salary'].fillna(df.groupby('service')['salary'].transform('mean'))\n",
    "\n",
    "# Verify the changes\n",
    "missing_salaries_replaced = df[df['salary'].isnull()]\n",
    "missing_salaries_replaced"
   ]
  },
  {
   "cell_type": "code",
   "execution_count": 29,
   "id": "a1c5c6d0-686a-4da1-8a7a-42d054a54d26",
   "metadata": {},
   "outputs": [
    {
     "name": "stdout",
     "output_type": "stream",
     "text": [
      "   A   B  C\n",
      "2  3 NaN  7\n"
     ]
    }
   ],
   "source": [
    "import pandas as pd\n",
    "\n",
    "df = pd.DataFrame({'A': [1, 2, 3], 'B': [3, 4, np.nan], 'C': [5, 6, 7]})\n",
    "\n",
    "# Check for null values in the 'B' column\n",
    "null_values = df['B'].isnull()\n",
    "\n",
    "# Print the rows that have null values in the 'B' column\n",
    "print(df[null_values])"
   ]
  },
  {
   "cell_type": "markdown",
   "id": "7a234f58-bb73-4581-9905-38982307e46e",
   "metadata": {},
   "source": [
    "## 6) Missing ‘phd’ - should be replaced as mean of the matching ‘service’"
   ]
  },
  {
   "cell_type": "code",
   "execution_count": null,
   "id": "0c416a88-834d-4ef6-937c-e2f4fd477d29",
   "metadata": {},
   "outputs": [],
   "source": []
  },
  {
   "cell_type": "markdown",
   "id": "8fe9c052-64b7-49c3-b5a8-19abb58816a1",
   "metadata": {},
   "source": [
    "## 7) How many are Male Staff and how many are Female Staff.Showboth in numbers and Graphically using Pie Chart.\n"
   ]
  },
  {
   "cell_type": "code",
   "execution_count": null,
   "id": "538558f7-a4e0-44a5-b639-31af5695004a",
   "metadata": {},
   "outputs": [],
   "source": []
  },
  {
   "cell_type": "markdown",
   "id": "ca004553-c2a7-427a-95c8-7ea02ce3ee57",
   "metadata": {},
   "source": [
    "## 8) How many are Prof, AssocProf and AsstProf. Show both in numbers and Graphically using a Pie Chart.\n"
   ]
  },
  {
   "cell_type": "code",
   "execution_count": null,
   "id": "66c920ef-9471-490a-99df-554792a8c546",
   "metadata": {},
   "outputs": [],
   "source": []
  },
  {
   "cell_type": "markdown",
   "id": "bc273fe5-8c98-4e46-97be-4f815f3505a4",
   "metadata": {},
   "source": [
    "## 10) Draw a histogram of the salaries divided into bin starting from 50Kandincrement\n",
    "## of 15K"
   ]
  },
  {
   "cell_type": "code",
   "execution_count": null,
   "id": "2616ad4f-088d-4275-a7ef-64c2726c2c87",
   "metadata": {},
   "outputs": [],
   "source": []
  }
 ],
 "metadata": {
  "kernelspec": {
   "display_name": "Python 3 (ipykernel)",
   "language": "python",
   "name": "python3"
  },
  "language_info": {
   "codemirror_mode": {
    "name": "ipython",
    "version": 3
   },
   "file_extension": ".py",
   "mimetype": "text/x-python",
   "name": "python",
   "nbconvert_exporter": "python",
   "pygments_lexer": "ipython3",
   "version": "3.11.4"
  }
 },
 "nbformat": 4,
 "nbformat_minor": 5
}
